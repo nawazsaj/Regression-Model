{
  "nbformat": 4,
  "nbformat_minor": 0,
  "metadata": {
    "colab": {
      "private_outputs": true,
      "provenance": [],
      "collapsed_sections": [
        "vncDsAP0Gaoa",
        "FJNUwmbgGyua",
        "w6K7xa23Elo4",
        "yQaldy8SH6Dl",
        "mDgbUHAGgjLW",
        "O_i_v8NEhb9l",
        "HhfV-JJviCcP",
        "Y3lxredqlCYt",
        "3RnN4peoiCZX",
        "x71ZqKXriCWQ",
        "7hBIi_osiCS2",
        "JlHwYmJAmNHm",
        "35m5QtbWiB9F",
        "PoPl-ycgm1ru",
        "H0kj-8xxnORC",
        "nA9Y7ga8ng1Z",
        "PBTbrJXOngz2",
        "u3PMJOP6ngxN",
        "dauF4eBmngu3",
        "bKJF3rekwFvQ",
        "MSa1f5Uengrz",
        "GF8Ens_Soomf",
        "0wOQAZs5pc--",
        "K5QZ13OEpz2H",
        "lQ7QKXXCp7Bj",
        "448CDAPjqfQr",
        "KSlN3yHqYklG",
        "t6dVpIINYklI",
        "ijmpgYnKYklI",
        "-JiQyfWJYklI",
        "EM7whBJCYoAo",
        "fge-S5ZAYoAp",
        "85gYPyotYoAp",
        "RoGjAbkUYoAp",
        "4Of9eVA-YrdM",
        "iky9q4vBYrdO",
        "F6T5p64dYrdO",
        "y-Ehk30pYrdP",
        "bamQiAODYuh1",
        "QHF8YVU7Yuh3",
        "GwzvFGzlYuh3",
        "qYpmQ266Yuh3",
        "OH-pJp9IphqM",
        "bbFf2-_FphqN",
        "_ouA3fa0phqN",
        "Seke61FWphqN",
        "PIIx-8_IphqN",
        "t27r6nlMphqO",
        "r2jJGEOYphqO",
        "b0JNsNcRphqO",
        "BZR9WyysphqO",
        "jj7wYXLtphqO",
        "eZrbJ2SmphqO",
        "rFu4xreNphqO",
        "YJ55k-q6phqO",
        "gCFgpxoyphqP",
        "OVtJsKN_phqQ",
        "lssrdh5qphqQ",
        "U2RJ9gkRphqQ",
        "1M8mcRywphqQ",
        "tgIPom80phqQ",
        "JMzcOPDDphqR",
        "x-EpHcCOp1ci",
        "X_VqEhTip1ck",
        "8zGJKyg5p1ck",
        "PVzmfK_Ep1ck",
        "n3dbpmDWp1ck",
        "ylSl6qgtp1ck",
        "ZWILFDl5p1ck",
        "M7G43BXep1ck",
        "Ag9LCva-p1cl",
        "E6MkPsBcp1cl",
        "2cELzS2fp1cl",
        "3MPXvC8up1cl",
        "NC_X3p0fY2L0",
        "UV0SzAkaZNRQ",
        "YPEH6qLeZNRQ",
        "q29F0dvdveiT",
        "EXh0U9oCveiU",
        "22aHeOlLveiV",
        "g-ATYxFrGrvw",
        "Yfr_Vlr8HBkt",
        "8yEUt7NnHlrM",
        "tEA2Xm5dHt1r",
        "I79__PHVH19G",
        "Ou-I18pAyIpj",
        "fF3858GYyt-u",
        "4_0_7-oCpUZd",
        "hwyV_J3ipUZe",
        "3yB-zSqbpUZe",
        "dEUvejAfpUZe",
        "Fd15vwWVpUZf",
        "bn_IUdTipZyH",
        "49K5P_iCpZyH",
        "Nff-vKELpZyI",
        "kLW572S8pZyI",
        "dWbDXHzopZyI",
        "yLjJCtPM0KBk",
        "xiyOF9F70UgQ",
        "7wuGOrhz0itI",
        "id1riN9m0vUs",
        "578E2V7j08f6",
        "89xtkJwZ18nB",
        "67NQN5KX2AMe",
        "Iwf50b-R2tYG",
        "GMQiZwjn3iu7",
        "WVIkgGqN3qsr",
        "XkPnILGE3zoT",
        "Hlsf0x5436Go",
        "mT9DMSJo4nBL",
        "c49ITxTc407N",
        "OeJFEK0N496M",
        "9ExmJH0g5HBk",
        "cJNqERVU536h",
        "k5UmGsbsOxih",
        "T0VqWOYE6DLQ",
        "qBMux9mC6MCf",
        "-oLEiFgy-5Pf",
        "C74aWNz2AliB",
        "2DejudWSA-a0",
        "pEMng2IbBLp7",
        "rAdphbQ9Bhjc",
        "TNVZ9zx19K6k",
        "nqoHp30x9hH9",
        "rMDnDkt2B6du",
        "yiiVWRdJDDil",
        "1UUpS68QDMuG",
        "kexQrXU-DjzY",
        "T5CmagL3EC8N",
        "BhH2vgX9EjGr",
        "qjKvONjwE8ra",
        "P1XJ9OREExlT",
        "VFOzZv6IFROw",
        "TIqpNgepFxVj",
        "VfCC591jGiD4",
        "OB4l2ZhMeS1U",
        "ArJBuiUVfxKd",
        "4qY1EAkEfxKe",
        "PiV4Ypx8fxKe",
        "TfvqoZmBfxKf",
        "dJ2tPlVmpsJ0",
        "JWYfwnehpsJ1",
        "-jK_YjpMpsJ2",
        "HAih1iBOpsJ2",
        "zVGeBEFhpsJ2",
        "bmKjuQ-FpsJ3",
        "Fze-IPXLpx6K",
        "7AN1z2sKpx6M",
        "9PIHJqyupx6M",
        "_-qAgymDpx6N",
        "Z-hykwinpx6N",
        "h_CCil-SKHpo",
        "cBFFvTBNJzUa",
        "HvGl1hHyA_VK",
        "EyNgTHvd2WFk",
        "KH5McJBi2d8v",
        "iW_Lq9qf2h6X",
        "-Kee-DAl2viO",
        "gCX9965dhzqZ",
        "gIfDvo9L0UH2"
      ],
      "include_colab_link": true
    },
    "kernelspec": {
      "name": "python3",
      "display_name": "Python 3"
    },
    "language_info": {
      "name": "python"
    }
  },
  "cells": [
    {
      "cell_type": "markdown",
      "metadata": {
        "id": "view-in-github",
        "colab_type": "text"
      },
      "source": [
        "<a href=\"https://colab.research.google.com/github/nawazsaj/Regression-Model/blob/main/Copy_of_Sample_ML_Submission_Template.ipynb\" target=\"_parent\"><img src=\"https://colab.research.google.com/assets/colab-badge.svg\" alt=\"Open In Colab\"/></a>"
      ]
    },
    {
      "cell_type": "markdown",
      "source": [
        "# **Project Name**    - **Yes Bank Stock Closing Price Prediction**\n",
        "\n"
      ],
      "metadata": {
        "id": "vncDsAP0Gaoa"
      }
    },
    {
      "cell_type": "markdown",
      "source": [
        "##### **Project Type**    - **Regression**\n",
        "##### **Contribution**    -  **Individual**\n",
        "##### **Contributor**     - **S Nawaz**"
      ],
      "metadata": {
        "id": "beRrZCGUAJYm"
      }
    },
    {
      "cell_type": "markdown",
      "source": [
        "# **Project Summary -**"
      ],
      "metadata": {
        "id": "FJNUwmbgGyua"
      }
    },
    {
      "cell_type": "markdown",
      "source": [
        "####Yes Bank was a very reputed bank till 2018. After 2018, the bank came under the umbrella of risk inflated banks because of the fraud case by Rana kapoor. This project would help not only yes bank but to all those banks who want to predict their future and are in conundrum for their future. So Machine Learning is helping us to resolve the issue of all those companies and firms who want to gather some courage in order to survive in the market for a longer time.\n",
        "#### This project aims to address the challenge of predicting the closing price of Yes Bank's stock, which is a crucial task for stakeholders, investors, and market participants. Yes Bank, as a prominent private sector bank in India, has encountered significant hurdles in recent years, including a substantial number of bad loans and involvement in fraud cases. These challenges have led to regulatory intervention by the Reserve Bank of India, making the prediction of Yes Bank's stock prices complex and uncertain.\n",
        "\n",
        "#### To tackle this challenge, the project utilizes a comprehensive dataset comprising monthly stock price data since the bank's inception. The dataset includes various important metrics such as the closing, starting, highest, and lowest prices for each month. The objective is to develop predictive models that can effectively capture the intricate dynamics and trends in Yes Bank's stock prices, taking into account the turbulent events and uncertainties associated with the bank's performance.\n",
        "\n",
        "\n",
        "####The project involves applying various modeling techniques, including time series models regression methods. The goal is to evaluate the performance of these models in accurately forecasting the closing price of Yes Bank's stock. Additionally, the models will be assessed on their ability to incorporate the impact of significant events, such as fraud cases involving the bank's founders or regulatory interventions by the Reserve Bank of India.\n",
        "\n",
        "####By successfully predicting the closing price of Yes Bank's stock, this project can provide valuable insights and assist stakeholders in making informed decisions related to their investments in the bank. It aims to navigate the complexities and uncertainties surrounding Yes Bank's stock prices, ultimately contributing to the understanding of its financial performance and aiding in effective decision-making.\n",
        "\n"
      ],
      "metadata": {
        "id": "F6v_1wHtG2nS"
      }
    },
    {
      "cell_type": "markdown",
      "source": [
        "# **GitHub Link -**"
      ],
      "metadata": {
        "id": "w6K7xa23Elo4"
      }
    },
    {
      "cell_type": "markdown",
      "source": [
        "Provide your GitHub Link here."
      ],
      "metadata": {
        "id": "h1o69JH3Eqqn"
      }
    },
    {
      "cell_type": "markdown",
      "source": [
        "# **Problem Statement**\n"
      ],
      "metadata": {
        "id": "yQaldy8SH6Dl"
      }
    },
    {
      "cell_type": "markdown",
      "source": [
        "###Yes Bank is a well-known bank in the Indian financial domain. Since 2018, it has been in the news because of the fraud case involving Rana Kapoor. Owing to this fact, it was interesting to see how that impacted the stock prices of the company and whether Time series models or any other predictive models can do justice to such situations. This dataset has monthly stock prices of the bank since its inception and includes closing, starting, highest, and lowest stock prices of every month. The main objective is to predict the stock’s closing price of the month."
      ],
      "metadata": {
        "id": "DpeJGUA3kjGy"
      }
    },
    {
      "cell_type": "markdown",
      "source": [
        "# **General Guidelines** : -  "
      ],
      "metadata": {
        "id": "mDgbUHAGgjLW"
      }
    },
    {
      "cell_type": "markdown",
      "source": [
        "1.   Well-structured, formatted, and commented code is required.\n",
        "2.   Exception Handling, Production Grade Code & Deployment Ready Code will be a plus. Those students will be awarded some additional credits.\n",
        "     \n",
        "     The additional credits will have advantages over other students during Star Student selection.\n",
        "       \n",
        "             [ Note: - Deployment Ready Code is defined as, the whole .ipynb notebook should be executable in one go\n",
        "                       without a single error logged. ]\n",
        "\n",
        "3.   Each and every logic should have proper comments.\n",
        "4. You may add as many number of charts you want. Make Sure for each and every chart the following format should be answered.\n",
        "        \n",
        "\n",
        "```\n",
        "# Chart visualization code\n",
        "```\n",
        "            \n",
        "\n",
        "*   Why did you pick the specific chart?\n",
        "*   What is/are the insight(s) found from the chart?\n",
        "* Will the gained insights help creating a positive business impact?\n",
        "Are there any insights that lead to negative growth? Justify with specific reason.\n",
        "\n",
        "5. You have to create at least 15 logical & meaningful charts having important insights.\n",
        "\n",
        "\n",
        "[ Hints : - Do the Vizualization in  a structured way while following \"UBM\" Rule.\n",
        "\n",
        "U - Univariate Analysis,\n",
        "\n",
        "B - Bivariate Analysis (Numerical - Categorical, Numerical - Numerical, Categorical - Categorical)\n",
        "\n",
        "M - Multivariate Analysis\n",
        " ]\n",
        "\n",
        "\n",
        "\n",
        "\n",
        "\n",
        "6. You may add more ml algorithms for model creation. Make sure for each and every algorithm, the following format should be answered.\n",
        "\n",
        "\n",
        "*   Explain the ML Model used and it's performance using Evaluation metric Score Chart.\n",
        "\n",
        "\n",
        "*   Cross- Validation & Hyperparameter Tuning\n",
        "\n",
        "*   Have you seen any improvement? Note down the improvement with updates Evaluation metric Score Chart.\n",
        "\n",
        "*   Explain each evaluation metric's indication towards business and the business impact pf the ML model used.\n",
        "\n",
        "\n",
        "\n",
        "\n",
        "\n",
        "\n",
        "\n",
        "\n",
        "\n",
        "\n",
        "\n",
        "\n",
        "\n",
        "\n",
        "\n",
        "\n",
        "\n",
        "\n"
      ],
      "metadata": {
        "id": "ZrxVaUj-hHfC"
      }
    },
    {
      "cell_type": "markdown",
      "source": [
        "# ***Let's Begin !***"
      ],
      "metadata": {
        "id": "O_i_v8NEhb9l"
      }
    },
    {
      "cell_type": "markdown",
      "source": [
        "## ***1. Know Your Data***"
      ],
      "metadata": {
        "id": "HhfV-JJviCcP"
      }
    },
    {
      "cell_type": "markdown",
      "source": [
        "### Import Libraries"
      ],
      "metadata": {
        "id": "Y3lxredqlCYt"
      }
    },
    {
      "cell_type": "code",
      "source": [
        "# Import Libraries\n",
        "# Import Pandas for data manipulation and analysis\n",
        "# Import NumPy for numerical computations\n",
        "# Import Matplotlib for basic data visualization\n",
        "# Import Seaborn for advanced statistical visualizations\n",
        "# Import the datetime module for working with dates and times and soo on\n",
        "# Import warnings module to ignore potential warnings\n",
        "\n",
        "import pandas as pd\n",
        "import numpy as np\n",
        "import matplotlib.pyplot as plt\n",
        "%matplotlib inline\n",
        "import seaborn as sns\n",
        "from datetime import datetime\n",
        "from sklearn.preprocessing import MinMaxScaler\n",
        "from sklearn.linear_model import LinearRegression\n",
        "from sklearn.metrics import (r2_score,\n",
        "mean_squared_error,  mean_absolute_percentage_error,\n",
        "mean_absolute_error)\n",
        "from sklearn import metrics\n",
        "import warnings\n",
        "warnings.filterwarnings('ignore')\n",
        "\n",
        "\n",
        "\n"
      ],
      "metadata": {
        "id": "M8Vqi-pPk-HR"
      },
      "execution_count": null,
      "outputs": []
    },
    {
      "cell_type": "markdown",
      "source": [
        "### Dataset Loading"
      ],
      "metadata": {
        "id": "3RnN4peoiCZX"
      }
    },
    {
      "cell_type": "code",
      "source": [
        "# Load Dataset\n",
        "## Mounting google Drive"
      ],
      "metadata": {
        "id": "4CkvbW_SlZ_R"
      },
      "execution_count": null,
      "outputs": []
    },
    {
      "cell_type": "code",
      "source": [
        "from google.colab import drive\n",
        "drive.mount('/content/drive')"
      ],
      "metadata": {
        "id": "0MRempvHPoFp"
      },
      "execution_count": null,
      "outputs": []
    },
    {
      "cell_type": "code",
      "source": [
        "# The 'pd.read_csv()' function reads the CSV file and returns a Pandas DataFrame.\n",
        "yesbank_df = pd.read_csv('/content/drive/MyDrive/data_YesBank_StockPrices.csv')   ## Creating path for the dataset"
      ],
      "metadata": {
        "id": "7zT5lQajQVHt"
      },
      "execution_count": null,
      "outputs": []
    },
    {
      "cell_type": "markdown",
      "source": [
        "### Dataset First View"
      ],
      "metadata": {
        "id": "x71ZqKXriCWQ"
      }
    },
    {
      "cell_type": "code",
      "source": [
        "# Dataset First Look ## df. head gives the top 5 rows of the data set\n",
        "yesbank_df.head()"
      ],
      "metadata": {
        "id": "LWNFOSvLl09H"
      },
      "execution_count": null,
      "outputs": []
    },
    {
      "cell_type": "code",
      "source": [
        "yesbank_df.tail()"
      ],
      "metadata": {
        "id": "jYa_OC7eax46"
      },
      "execution_count": null,
      "outputs": []
    },
    {
      "cell_type": "markdown",
      "source": [
        "### Dataset Rows & Columns count"
      ],
      "metadata": {
        "id": "7hBIi_osiCS2"
      }
    },
    {
      "cell_type": "code",
      "source": [
        "# Dataset Rows & Columns count\n",
        "yesbank_df.shape"
      ],
      "metadata": {
        "id": "Kllu7SJgmLij"
      },
      "execution_count": null,
      "outputs": []
    },
    {
      "cell_type": "markdown",
      "source": [
        "\n",
        "\n",
        "* There are 185 rows and 5 columns in our data set.  \n",
        "\n"
      ],
      "metadata": {
        "id": "kTTAsJZjbPQg"
      }
    },
    {
      "cell_type": "markdown",
      "source": [
        "### Dataset Information"
      ],
      "metadata": {
        "id": "JlHwYmJAmNHm"
      }
    },
    {
      "cell_type": "code",
      "source": [
        "# Dataset Info gives the basic information about the data\n",
        "yesbank_df.info()"
      ],
      "metadata": {
        "id": "e9hRXRi6meOf"
      },
      "execution_count": null,
      "outputs": []
    },
    {
      "cell_type": "markdown",
      "source": [
        "*  As we can see the Date column data type is 'object' and other column are 'float64'"
      ],
      "metadata": {
        "id": "vNh67GTBcUKY"
      }
    },
    {
      "cell_type": "markdown",
      "source": [
        "#### Duplicate Values"
      ],
      "metadata": {
        "id": "35m5QtbWiB9F"
      }
    },
    {
      "cell_type": "code",
      "source": [
        "# Dataset Duplicate Value Count\n",
        "## checking the duplicate values are present in our data set\n",
        "len(yesbank_df[yesbank_df.duplicated()])"
      ],
      "metadata": {
        "id": "1sLdpKYkmox0"
      },
      "execution_count": null,
      "outputs": []
    },
    {
      "cell_type": "markdown",
      "source": [
        "*  There are 0(zero) duplicated values in our data set"
      ],
      "metadata": {
        "id": "UIXNmGcXdq_T"
      }
    },
    {
      "cell_type": "markdown",
      "source": [
        "#### Missing Values/Null Values"
      ],
      "metadata": {
        "id": "PoPl-ycgm1ru"
      }
    },
    {
      "cell_type": "code",
      "source": [
        "# Missing Values/Null Values Count\n",
        "yesbank_df.isnull().sum()"
      ],
      "metadata": {
        "id": "GgHWkxvamxVg"
      },
      "execution_count": null,
      "outputs": []
    },
    {
      "cell_type": "markdown",
      "source": [
        "*  Zero null value in our data set"
      ],
      "metadata": {
        "id": "9Ll_q-Ake8YA"
      }
    },
    {
      "cell_type": "code",
      "source": [
        "# Visualizing the missing values\n",
        "null_counts= yesbank_df.isnull().sum()\n",
        "null_counts.plot.bar()\n",
        "plt.title('Null Value Counts')\n",
        "plt.xlabel('Features')\n",
        "plt.ylabel('Count')\n",
        "plt.show()"
      ],
      "metadata": {
        "id": "3q5wnI3om9sJ"
      },
      "execution_count": null,
      "outputs": []
    },
    {
      "cell_type": "markdown",
      "source": [
        "### What did you know about your dataset?"
      ],
      "metadata": {
        "id": "H0kj-8xxnORC"
      }
    },
    {
      "cell_type": "markdown",
      "source": [
        "### The given dataset of yesbank has 185 rows and 5 Columns/Features, in which we have the target label/dependent variable- \"close\"{i.e. we have to predict the closing stock price} with the help of our independent variable i.e.- \"Date\", \"open\", \"High\", \"Low\".There are no null and duplicate values in the dataset.\"Date\" feature has an object datatype which will be converted into a datetime datatype in further process."
      ],
      "metadata": {
        "id": "gfoNAAC-nUe_"
      }
    },
    {
      "cell_type": "markdown",
      "source": [
        "## ***2. Understanding Your Variables***"
      ],
      "metadata": {
        "id": "nA9Y7ga8ng1Z"
      }
    },
    {
      "cell_type": "code",
      "source": [
        "# Dataset Columns\n",
        "yesbank_df.columns"
      ],
      "metadata": {
        "id": "j7xfkqrt5Ag5"
      },
      "execution_count": null,
      "outputs": []
    },
    {
      "cell_type": "code",
      "source": [
        "# Dataset Describe\n",
        "    ## It gives the Statistical Information about the numeric column.\n",
        "yesbank_df.describe()\n"
      ],
      "metadata": {
        "id": "DnOaZdaE5Q5t"
      },
      "execution_count": null,
      "outputs": []
    },
    {
      "cell_type": "markdown",
      "source": [
        "### Variables Description"
      ],
      "metadata": {
        "id": "PBTbrJXOngz2"
      }
    },
    {
      "cell_type": "markdown",
      "source": [
        "###  We have 185 rows and 5 columns/features description are as follows-\n",
        "\n",
        "*  Date: It denotes the month and year of the for a particular price.\n",
        "*  Open: Open means the price at which a stock started trading that month.\n",
        "* High: refers to the maximum price that month.\n",
        "* Low: refers to the minimum price that month.\n",
        "* Close: refers to the final trading price for that month, which we have to predict using regression"
      ],
      "metadata": {
        "id": "aJV4KIxSnxay"
      }
    },
    {
      "cell_type": "markdown",
      "source": [
        "### Check Unique Values for each variable."
      ],
      "metadata": {
        "id": "u3PMJOP6ngxN"
      }
    },
    {
      "cell_type": "code",
      "source": [
        "# Check Unique Values for each variable.\n",
        "yesbank_df.nunique()"
      ],
      "metadata": {
        "id": "zms12Yq5n-jE"
      },
      "execution_count": null,
      "outputs": []
    },
    {
      "cell_type": "markdown",
      "source": [
        "## 3. ***Data Wrangling***"
      ],
      "metadata": {
        "id": "dauF4eBmngu3"
      }
    },
    {
      "cell_type": "markdown",
      "source": [
        "### Data Wrangling Code"
      ],
      "metadata": {
        "id": "bKJF3rekwFvQ"
      }
    },
    {
      "cell_type": "code",
      "source": [
        "             # Write your code to make your dataset analysis ready.\n",
        "## As we have seen in dataset that 'DATE' feature is in not the correct format, so we have to change it in 'Datetime' format\n",
        "# First check the format of 'Date' Feature\n",
        "yesbank_df['Date']\n"
      ],
      "metadata": {
        "id": "wk-9a2fpoLcV"
      },
      "execution_count": null,
      "outputs": []
    },
    {
      "cell_type": "markdown",
      "source": [
        "*  From the above output it is seen that DATE is in the format of MM-YY but we have to convert it into proper date format like YYYY-MM-DD"
      ],
      "metadata": {
        "id": "Tutba-tWs2tw"
      }
    },
    {
      "cell_type": "code",
      "source": [
        "# Converting Date to Datetime format(YYYY-MM-DD)\n",
        "yesbank_df['Date']= pd.to_datetime(yesbank_df['Date'].apply(lambda x: datetime.strptime(x, '%b-%y')))\n",
        "yesbank_df"
      ],
      "metadata": {
        "id": "5y2EUHkYs8qJ"
      },
      "execution_count": null,
      "outputs": []
    },
    {
      "cell_type": "markdown",
      "source": [
        "*   But the problem is that our ML models doesn't work on \"Date\" data.So we need to convert it into numerical column.But, numerical date have no use in our respective dataframe to predict the goal .So,make the \"Date\" column as dataframe index .\n"
      ],
      "metadata": {
        "id": "3FpjnVWzt0Ep"
      }
    },
    {
      "cell_type": "code",
      "source": [
        "## Converting 'Date' Feature to dataframe Index.\n",
        "yesbank_df.set_index('Date',inplace=True)\n",
        "\n",
        " ## checking the data frame with index 'Date'\n",
        "yesbank_df.head()"
      ],
      "metadata": {
        "id": "9mGAGO7zt-1A"
      },
      "execution_count": null,
      "outputs": []
    },
    {
      "cell_type": "markdown",
      "source": [
        "### What all manipulations have you done and insights you found?"
      ],
      "metadata": {
        "id": "MSa1f5Uengrz"
      }
    },
    {
      "cell_type": "markdown",
      "source": [
        "### The given dataset has 185 rows and 5 columns/features having no null and duplicates values.'Date' Feature is not in the proper format so it is converted to 'datetime' format and made it to the Index of the data frame as per our need to proceed further."
      ],
      "metadata": {
        "id": "LbyXE7I1olp8"
      }
    },
    {
      "cell_type": "code",
      "source": [
        "##   copying the data frame as df\n",
        "df = yesbank_df.copy()"
      ],
      "metadata": {
        "id": "KUu31mTw8hA6"
      },
      "execution_count": null,
      "outputs": []
    },
    {
      "cell_type": "markdown",
      "source": [
        "## ***4. Data Vizualization, Storytelling & Experimenting with charts : Understand the relationships between variables***"
      ],
      "metadata": {
        "id": "GF8Ens_Soomf"
      }
    },
    {
      "cell_type": "markdown",
      "source": [
        "####Chart - 1  **Histogram and KDE Plot of Dependent Variable 'Close'**"
      ],
      "metadata": {
        "id": "0wOQAZs5pc--"
      }
    },
    {
      "cell_type": "code",
      "source": [
        "# Chart - 1 visualization code\n",
        "# Plotting the histogram to see Dependent variable 'Close' distribution which we need to predict later\n",
        "plt.figure(figsize=(7,7))\n",
        "sns.distplot(df['Close'],color=\"blue\")\n",
        "plt.title(\"Close stock price distirbution\")"
      ],
      "metadata": {
        "id": "7v_ESjsspbW7"
      },
      "execution_count": null,
      "outputs": []
    },
    {
      "cell_type": "markdown",
      "source": [
        "##### 1. Why did you pick the specific chart?"
      ],
      "metadata": {
        "id": "K5QZ13OEpz2H"
      }
    },
    {
      "cell_type": "markdown",
      "source": [
        "* I have picked the above chart because it combines both histogram and kde plot that offers a comprehensive visualization of the data distribution.\n",
        "* It allows for a better understanding of the distribution's characteristics, such as its shape, peaks, and deviations from a normal distribution.\n",
        "* The combined plot provides a richer visualization that incorporates both the frequency-based information from the histogram and the smooth density estimate from the KDE plot."
      ],
      "metadata": {
        "id": "XESiWehPqBRc"
      }
    },
    {
      "cell_type": "markdown",
      "source": [
        "##### 2. What is/are the insight(s) found from the chart?"
      ],
      "metadata": {
        "id": "lQ7QKXXCp7Bj"
      }
    },
    {
      "cell_type": "markdown",
      "source": [
        "*  From the above chart it is clearly visualize that it is **right/positively skewed** and has to be converted to normal distribution."
      ],
      "metadata": {
        "id": "C_j1G7yiqdRP"
      }
    },
    {
      "cell_type": "markdown",
      "source": [
        "##### 3. Will the gained insights help creating a positive business impact?\n",
        "Are there any insights that lead to negative growth? Justify with specific reason."
      ],
      "metadata": {
        "id": "448CDAPjqfQr"
      }
    },
    {
      "cell_type": "markdown",
      "source": [
        "*  Currently can't say that it has a positive or negative impact but it is helpful to understand and decide upon the requirement of transformation of the features for Model implementation.Here we will use log transformation to convert it into **normal distribution**."
      ],
      "metadata": {
        "id": "3cspy4FjqxJW"
      }
    },
    {
      "cell_type": "markdown",
      "source": [
        "#### Chart - 2 -  Log Transformation of Dependent Variable 'Close'"
      ],
      "metadata": {
        "id": "KSlN3yHqYklG"
      }
    },
    {
      "cell_type": "code",
      "source": [
        "# Chart - 2 visualization code\n",
        "#  Plotting the Log Transformation to see Dependent variable 'Close' distribution which we need to predict later.\n",
        "plt.figure(figsize=(7,7))\n",
        "sns.distplot(np.log(df['Close']),color=\"blue\")\n",
        "plt.title(\"Close Price Distribution after log transformation\")"
      ],
      "metadata": {
        "id": "R4YgtaqtYklH"
      },
      "execution_count": null,
      "outputs": []
    },
    {
      "cell_type": "markdown",
      "source": [
        "##### 1. Why did you pick the specific chart?"
      ],
      "metadata": {
        "id": "t6dVpIINYklI"
      }
    },
    {
      "cell_type": "markdown",
      "source": [
        "*  I have used the log transformation because the distribution is not much skewed, and log transformation is helpful to bring the normal pattern in distribution of dependent feature.Beacuse of the Log transformation outliners are removed.\n",
        "\n",
        "\n"
      ],
      "metadata": {
        "id": "5aaW0BYyYklI"
      }
    },
    {
      "cell_type": "markdown",
      "source": [
        "##### 2. What is/are the insight(s) found from the chart?"
      ],
      "metadata": {
        "id": "ijmpgYnKYklI"
      }
    },
    {
      "cell_type": "markdown",
      "source": [
        "*  Log transformation is sufficient to bring the noraml distribution.It shows the mean is pumped and the frequent points are not near to mean. The plot clarifies about the bubble price of Yes Bank stock remained for very less time."
      ],
      "metadata": {
        "id": "PSx9atu2YklI"
      }
    },
    {
      "cell_type": "markdown",
      "source": [
        "##### 3. Will the gained insights help creating a positive business impact?\n",
        "Are there any insights that lead to negative growth? Justify with specific reason."
      ],
      "metadata": {
        "id": "-JiQyfWJYklI"
      }
    },
    {
      "cell_type": "markdown",
      "source": [
        "*  It helps to observe the peak and vallyes in closing stock price.The inflated price at mean is temporary as it is a bubble point and after this the price got decline tremendously because of the fraud case which happened in 2018."
      ],
      "metadata": {
        "id": "BcBbebzrYklV"
      }
    },
    {
      "cell_type": "markdown",
      "source": [
        "#### Chart - 3 -  Histogram and KDE Plot of independent Variable"
      ],
      "metadata": {
        "id": "EM7whBJCYoAo"
      }
    },
    {
      "cell_type": "code",
      "source": [
        "# Chart - 3 visualization code\n",
        "##   separating the independent and dependent variables\n",
        "# Independent Variables\n",
        "indep_var=df[['High','Low','Open']]\n",
        "#dependent variable\n",
        "dep_var=df['Close']\n",
        "    ##    Visualizing the independent variables\n",
        "for var in indep_var:\n",
        "    plt.figure(figsize=(17,7))\n",
        "    sns.set()\n",
        "    plt.subplot(1, 2, 1)\n",
        "    fig = sns.distplot(df[var],color='blue')\n",
        "    fig.set_title(\"Distribution\", fontsize=16)\n",
        "    fig.set_ylabel('Density')\n",
        "    fig.set_xlabel(var)\n",
        "\n",
        "\n"
      ],
      "metadata": {
        "id": "t6GMdE67YoAp"
      },
      "execution_count": null,
      "outputs": []
    },
    {
      "cell_type": "markdown",
      "source": [
        "##### 1. Why did you pick the specific chart?"
      ],
      "metadata": {
        "id": "fge-S5ZAYoAp"
      }
    },
    {
      "cell_type": "markdown",
      "source": [
        "*  I have picked the above chart because it combines both histogram and kde plot that offers a comprehensive visualization of the data distribution.\n",
        "*  It allows for a better understanding of the distribution's characteristics, such as its shape, peaks, and deviations from a normal distribution.\n",
        "*  The combined plot provides a richer visualization that incorporates both the frequency-based information from the histogram and the smooth density estimate from the KDE plot."
      ],
      "metadata": {
        "id": "5dBItgRVYoAp"
      }
    },
    {
      "cell_type": "markdown",
      "source": [
        "##### 2. What is/are the insight(s) found from the chart?"
      ],
      "metadata": {
        "id": "85gYPyotYoAp"
      }
    },
    {
      "cell_type": "markdown",
      "source": [
        "*  From the above chart it is clearly visualize that it is right/positively skewed and has to be converted to normal distribution and by converting it to normal distribution outliners can be removed."
      ],
      "metadata": {
        "id": "4jstXR6OYoAp"
      }
    },
    {
      "cell_type": "markdown",
      "source": [
        "##### 3. Will the gained insights help creating a positive business impact?\n",
        "Are there any insights that lead to negative growth? Justify with specific reason."
      ],
      "metadata": {
        "id": "RoGjAbkUYoAp"
      }
    },
    {
      "cell_type": "markdown",
      "source": [
        "*  Currently can't say that it has a positive or negative impact but it is helpful to understand and decide upon the requirement of transformation of the features for Model implementation.Here we will use log transformation to convert it into normal distribution and to remove outliner.\n",
        "\n"
      ],
      "metadata": {
        "id": "zfJ8IqMcYoAp"
      }
    },
    {
      "cell_type": "markdown",
      "source": [
        "#### Chart - 4 - Box plot"
      ],
      "metadata": {
        "id": "4Of9eVA-YrdM"
      }
    },
    {
      "cell_type": "code",
      "source": [
        "# Chart - 4 visualization code\n",
        "##  checking the outlier in the independent variables with the help of box whisker plot\n",
        "for var in indep_var:\n",
        "    plt.figure(figsize=(17,7))\n",
        "    sns.set()\n",
        "    plt.subplot(1, 2, 1)\n",
        "    fig = sns.boxplot(y = df[var],color='r')\n",
        "    fig.set_title(\"Distribution\", fontsize=16)\n",
        "    fig.set_title('Outliers in Various Features')\n",
        "    fig.set_ylabel(var)\n",
        "\n",
        "\n"
      ],
      "metadata": {
        "id": "irlUoxc8YrdO"
      },
      "execution_count": null,
      "outputs": []
    },
    {
      "cell_type": "markdown",
      "source": [
        "##### 1. Why did you pick the specific chart?"
      ],
      "metadata": {
        "id": "iky9q4vBYrdO"
      }
    },
    {
      "cell_type": "markdown",
      "source": [
        "*  The specific chart used in the code is a boxplot, which was chosen for its effectiveness in comparing multiple variables, detecting outliers, visualizing distributions, and providing a concise summary of the data.\n",
        "*  The notch feature adds a confidence interval around the median, enhancing comparison. The boxplot's space efficiency allows for displaying multiple variables in a compact manner.\n",
        "*  the boxplot is a suitable choice for analyzing and comparing the Open, High, Low, and Close prices of the stock.\n",
        "*  identify the outliers in every feature"
      ],
      "metadata": {
        "id": "aJRCwT6DYrdO"
      }
    },
    {
      "cell_type": "markdown",
      "source": [
        "##### 2. What is/are the insight(s) found from the chart?"
      ],
      "metadata": {
        "id": "F6T5p64dYrdO"
      }
    },
    {
      "cell_type": "markdown",
      "source": [
        "*  The presence of outliers in each of the features indicates the existence of extreme values that deviate significantly from the overall pattern of the data. These outliers can potentially impact the model fitting process and the accuracy of the predictions. Therefore, it is crucial to address these outliers before proceeding with model fitting."
      ],
      "metadata": {
        "id": "Xx8WAJvtYrdO"
      }
    },
    {
      "cell_type": "markdown",
      "source": [
        "##### 3. Will the gained insights help creating a positive business impact?\n",
        "Are there any insights that lead to negative growth? Justify with specific reason."
      ],
      "metadata": {
        "id": "y-Ehk30pYrdP"
      }
    },
    {
      "cell_type": "markdown",
      "source": [
        "*  To handle outliers, various approaches can be employed, such as removing them from the dataset, transforming the data using robust statistical techniques, or imputing them with more representative values. The choice of the method depends on the nature of the data and the specific requirements of the analysis.\n",
        "\n",
        "*  Handling outliers helps to ensure that the model captures the underlying patterns and relationships accurately, leading to more reliable predictions and interpretations. It also improves the robustness of the model against extreme observations that may introduce bias or noise. Properly addressing outliers contributes to the overall validity and integrity of the analysis, enhancing the reliability of the model fitting process and subsequent predictions."
      ],
      "metadata": {
        "id": "jLNxxz7MYrdP"
      }
    },
    {
      "cell_type": "markdown",
      "source": [
        "#### Chart - 5"
      ],
      "metadata": {
        "id": "bamQiAODYuh1"
      }
    },
    {
      "cell_type": "markdown",
      "source": [
        "###Log tranformation to convert Independent Feautres to normal distribution"
      ],
      "metadata": {
        "id": "-X-gkr97cJgY"
      }
    },
    {
      "cell_type": "code",
      "source": [
        "# Chart - 5 visualization code\n",
        "\n",
        "# log tranformation to convert Independent Feautres to normal distribution\n",
        "\n",
        "for col in indep_var:\n",
        "    plt.figure(figsize=(25, 6))\n",
        "    plt.subplot(1, 2, 1)\n",
        "    plt.title(\"Distribution Curve\")\n",
        "\n",
        "# np.log() is a method in numpy library to convert our dataset values into log transformation to get a normal distribution curve\n",
        "\n",
        "    feature_to_log = np.log(df[col])  # assign log tranformation value into a variable\n",
        "    sns.distplot(feature_to_log, color=\"blue\")\n",
        "\n",
        "# The Axes. axvline() function in axes module of matplotlib library is used to add a vertical line across the axis.\n",
        "# It will show where the \"mean\" and \"median\" lie for each plot\n",
        "\n",
        "    plt.ylabel(\"Density\", size=14)\n",
        "    plt.axvline(feature_to_log.mean(),color='magenta',linewidth=1.5)\n",
        "    plt.axvline(feature_to_log.median(),color='red',linestyle=\"dashed\",linewidth=1.5)\n",
        "\n",
        "# creating boxplot to see if there is any outliers in any feature or not\n",
        "# using subplot() function of matplotlib to create boxplot in this figure itself\n",
        "\n",
        "    plt.subplot(1, 2, 2)\n",
        "    plt.title(\"Outliers in Various Features\")\n",
        "    sns.boxplot(y=feature_to_log, color=\"r\")\n",
        "\n",
        "plt.show()"
      ],
      "metadata": {
        "id": "TIJwrbroYuh3"
      },
      "execution_count": null,
      "outputs": []
    },
    {
      "cell_type": "markdown",
      "source": [
        "##### 1. Why did you pick the specific chart?"
      ],
      "metadata": {
        "id": "QHF8YVU7Yuh3"
      }
    },
    {
      "cell_type": "markdown",
      "source": [
        "*  I have used the log transformation because the distribution is not much skewed, and log transformation is helpful to bring the normal pattern in distribution of dependent feature.Beacuse of the Log transformation outliners are removed."
      ],
      "metadata": {
        "id": "dcxuIMRPYuh3"
      }
    },
    {
      "cell_type": "markdown",
      "source": [
        "##### 2. What is/are the insight(s) found from the chart?"
      ],
      "metadata": {
        "id": "GwzvFGzlYuh3"
      }
    },
    {
      "cell_type": "markdown",
      "source": [
        "*  As we can see the outlier are removed from our data set\n",
        "*  Log transformation is sufficient to bring the noraml distribution.The plot clarifies about the bubble price of Yes Bank stock remained for very less time.we can see from the distribution curve that mean is now closer median.\n",
        "\n",
        "*  From the above boxplot after log transformation, we can see outliner are removed and we have approximate result of quartiles for independent features which are as follows-\n",
        "1.  For feature Open- Lower Quartile(Q1)- 3.6 ,Median(Q2)- 4.3, Upper Quartile(Q3)- 5.0\n",
        "2.  For feature High- Lower Quartile(Q1)- 3.7 ,Median(Q2)- 4.4, Upper Quartile(Q3)- 5.2\n",
        "3.  For feature Low- Lower Quartile(Q1)- 3.3 ,Median(Q2)- 4, Upper Quartile(Q3)- 4.9"
      ],
      "metadata": {
        "id": "uyqkiB8YYuh3"
      }
    },
    {
      "cell_type": "markdown",
      "source": [
        "##### 3. Will the gained insights help creating a positive business impact?\n",
        "Are there any insights that lead to negative growth? Justify with specific reason."
      ],
      "metadata": {
        "id": "qYpmQ266Yuh3"
      }
    },
    {
      "cell_type": "markdown",
      "source": [
        "*  It helps to observe the peak and vallyes in stock prices.The inflated price at mean is temporary as it is a bubble point and after this the price got decline tremendously because of the fraud case which happened in 2018.\n",
        "\n",
        "*  After the log transformation, the outliner are removed and the distribution is converted to normal pattern which will suffice the model requirements and help to achieve better accuracy of our models,so we can say that the transformation has a positive impact.\n",
        "\n"
      ],
      "metadata": {
        "id": "_WtzZ_hCYuh4"
      }
    },
    {
      "cell_type": "markdown",
      "source": [
        "#### Chart - 6"
      ],
      "metadata": {
        "id": "OH-pJp9IphqM"
      }
    },
    {
      "cell_type": "code",
      "source": [
        "# Chart - 6 visualization code\n",
        "# Visualizing yesbank stock closing price over the time.\n",
        "sns.set_theme(style=\"white\")\n",
        "sns.set(rc={'figure.figsize':(10,6)})\n",
        "sns.lineplot(x=\"Date\", y=\"Close\",data=df,color='r').set(title='Yes Bank closing price',xlabel='Year')"
      ],
      "metadata": {
        "id": "kuRf4wtuphqN"
      },
      "execution_count": null,
      "outputs": []
    },
    {
      "cell_type": "markdown",
      "source": [
        "##### 1. Why did you pick the specific chart?"
      ],
      "metadata": {
        "id": "bbFf2-_FphqN"
      }
    },
    {
      "cell_type": "markdown",
      "source": [
        "*  Line plot is used to show the progression of a variable over time or any continuous variable that has an inherent order.\n",
        "*  They are particularly useful for visualizing trends, seasonality, and changes in values over time."
      ],
      "metadata": {
        "id": "loh7H2nzphqN"
      }
    },
    {
      "cell_type": "markdown",
      "source": [
        "##### 2. What is/are the insight(s) found from the chart?"
      ],
      "metadata": {
        "id": "_ouA3fa0phqN"
      }
    },
    {
      "cell_type": "markdown",
      "source": [
        "*  From the above plot we can easily see that price has increasing trend from 2009-2108 but after 2018 there is sudden drop in the prices because of the fraud case involving Rana Kapoor."
      ],
      "metadata": {
        "id": "VECbqPI7phqN"
      }
    },
    {
      "cell_type": "markdown",
      "source": [
        "##### 3. Will the gained insights help creating a positive business impact?\n",
        "Are there any insights that lead to negative growth? Justify with specific reason."
      ],
      "metadata": {
        "id": "Seke61FWphqN"
      }
    },
    {
      "cell_type": "markdown",
      "source": [
        "*  As we know the stock closing price serves as a benchmark for determining how a stock performs and also help investors comprehend how its value has changed over time.\n",
        "*  From the above plot it is seen that stock closing price diminishes continously after 2018 ,so it is alarming for the yes bank to cope with this situation as closing price is that one price which drives investors to invest in a stock or not.So, as per scnerio the insights have a negative impact on business, but by observing the trend they must try to restrict the stock manipulation to become stable in terms of revenue."
      ],
      "metadata": {
        "id": "DW4_bGpfphqN"
      }
    },
    {
      "cell_type": "markdown",
      "source": [
        "#### Chart - 7"
      ],
      "metadata": {
        "id": "PIIx-8_IphqN"
      }
    },
    {
      "cell_type": "code",
      "source": [
        "# Chart - 6 visualization code\n",
        "# Visualizing the trend of yesbank stock opening price over the time.\n",
        "sns.set_theme(style=\"white\")\n",
        "sns.set(rc={'figure.figsize':(10,6)})\n",
        "sns.lineplot(x=\"Date\", y=\"Open\",data=df,color='r').set(title='Trend for Yes Bank opening price',xlabel='Year')"
      ],
      "metadata": {
        "id": "DHhYmPrpof4E"
      },
      "execution_count": null,
      "outputs": []
    },
    {
      "cell_type": "markdown",
      "source": [
        "##### 1. Why did you pick the specific chart?"
      ],
      "metadata": {
        "id": "t27r6nlMphqO"
      }
    },
    {
      "cell_type": "markdown",
      "source": [
        "*  Line plot is used to show the progression of a variable over time or any continuous variable that has an inherent order.\n",
        "* They are particularly useful for visualizing trends, seasonality, and changes in values over time.\n"
      ],
      "metadata": {
        "id": "iv6ro40sphqO"
      }
    },
    {
      "cell_type": "markdown",
      "source": [
        "##### 2. What is/are the insight(s) found from the chart?"
      ],
      "metadata": {
        "id": "r2jJGEOYphqO"
      }
    },
    {
      "cell_type": "markdown",
      "source": [
        "*  Here also the opening price also affected because of fraud , before that the opening day price increases continuously till 2018. We can take closing price of the stock as the dependent variable as it is the final price of the day."
      ],
      "metadata": {
        "id": "Po6ZPi4hphqO"
      }
    },
    {
      "cell_type": "markdown",
      "source": [
        "##### 3. Will the gained insights help creating a positive business impact?\n",
        "Are there any insights that lead to negative growth? Justify with specific reason."
      ],
      "metadata": {
        "id": "b0JNsNcRphqO"
      }
    },
    {
      "cell_type": "markdown",
      "source": [
        "*  The impact of fraud on organaisation can be devastating,leading to **significant financial loss**, **irreparrable damage to reputation**,**potential legel repercussions**,and a **decline in employee morale and trust**."
      ],
      "metadata": {
        "id": "xvSq8iUTphqO"
      }
    },
    {
      "cell_type": "markdown",
      "source": [
        "#### Chart - 8"
      ],
      "metadata": {
        "id": "BZR9WyysphqO"
      }
    },
    {
      "cell_type": "markdown",
      "source": [
        "\n",
        "\n",
        "**Visualizing the relation b/w independent and dependent variable**\n",
        "\n"
      ],
      "metadata": {
        "id": "klHSsCX4OpUC"
      }
    },
    {
      "cell_type": "code",
      "source": [
        "# Chart - 8 visualization code\n",
        "\n",
        "# Visualizing the relation b/w independent and dependent variable\n",
        "\n",
        "plt.figure(figsize = (22,8))\n",
        "\n",
        "plt.subplot(1, 3, 1)\n",
        "plt.scatter(df['Close'], df['Open'], alpha=0.5,color = 'red')\n",
        "plt.title('Open and Close stock prices of yesbank ')\n",
        "plt.xlabel('Open')\n",
        "plt.ylabel('Class')\n",
        "sns.regplot(x ='Open', y = 'Close', data= df,color = 'r')\n",
        "\n",
        "plt.subplot(1, 3, 2)\n",
        "plt.scatter(df['Close'], df['High'], alpha=0.5,color = 'red')\n",
        "plt.title('High and Close ')\n",
        "plt.xlabel('High')\n",
        "plt.ylabel('Class')\n",
        "sns.regplot(x ='High', y = 'Close', data= df,color = 'r')\n",
        "\n",
        "plt.subplot(1, 3, 3)\n",
        "plt.scatter(df['Close'], df['Low'], alpha=0.5,color = 'red')\n",
        "plt.title('Low and Close ')\n",
        "plt.xlabel('Low')\n",
        "plt.ylabel('Class')\n",
        "sns.regplot(x ='Low', y = 'Close', data= df,color = 'r')\n",
        "\n",
        "plt.show()"
      ],
      "metadata": {
        "id": "TdPTWpAVphqO"
      },
      "execution_count": null,
      "outputs": []
    },
    {
      "cell_type": "markdown",
      "source": [
        "##### 1. Why did you pick the specific chart?"
      ],
      "metadata": {
        "id": "jj7wYXLtphqO"
      }
    },
    {
      "cell_type": "markdown",
      "source": [
        "* Scatter plot is used because it is easy to visualize the relationship between two variables.\n",
        "* They help you understand if there is any correlation or pattern between the variables.\n",
        "* Scatter plots are useful for assessing the strength and direction of the relationship between two variables. By examining the overall pattern of the data points, we can determine if there is a positive correlation (both variables increase together), negative correlation (one variable increases while the other decreases), or no correlation between the variables.\n",
        "\n"
      ],
      "metadata": {
        "id": "Ob8u6rCTphqO"
      }
    },
    {
      "cell_type": "markdown",
      "source": [
        "##### 2. What is/are the insight(s) found from the chart?"
      ],
      "metadata": {
        "id": "eZrbJ2SmphqO"
      }
    },
    {
      "cell_type": "markdown",
      "source": [
        "*  From the above plot it is visible that dependent variable is highly related to all independent variables which is a good sign while implementing the models"
      ],
      "metadata": {
        "id": "mZtgC_hjphqO"
      }
    },
    {
      "cell_type": "markdown",
      "source": [
        "##### 3. Will the gained insights help creating a positive business impact?\n",
        "Are there any insights that lead to negative growth? Justify with specific reason."
      ],
      "metadata": {
        "id": "rFu4xreNphqO"
      }
    },
    {
      "cell_type": "markdown",
      "source": [
        "*  The gained insights have a positive correlation between independent and dependent variables which is a plus for our models\n",
        "*   But we have to be cautious about the multicollinearity and try to merge the features or drop them to rectify the multicollinearity which will ultimately increase the model accuracy."
      ],
      "metadata": {
        "id": "ey_0qi68phqO"
      }
    },
    {
      "cell_type": "markdown",
      "source": [
        "#### Chart - 9 - Correlation Heatmap"
      ],
      "metadata": {
        "id": "YJ55k-q6phqO"
      }
    },
    {
      "cell_type": "code",
      "source": [
        "# Chart - 9 visualization code\n",
        "## First step to check multicollinearity\n",
        "plt.figure(figsize=(12,6))\n",
        "sns.heatmap(df.corr(), annot = True, cmap='coolwarm')\n",
        "plt.show()"
      ],
      "metadata": {
        "id": "B2aS4O1ophqO"
      },
      "execution_count": null,
      "outputs": []
    },
    {
      "cell_type": "markdown",
      "source": [
        "##### 1. Why did you pick the specific chart?"
      ],
      "metadata": {
        "id": "gCFgpxoyphqP"
      }
    },
    {
      "cell_type": "markdown",
      "source": [
        "*  Heatmaps are used to visually represent data in a matrix form where each cell's color is determined by its value.\n",
        "*  Heatmaps are commonly used in data visualization to represent patterns or relationships in data, and to identify areas of high and low values or activity.*  Heatmap consists of small square boxes having a numeric value known as correlation coefficient.\n",
        "*  A correlation coefficient is a statistical measure that indicates the strength and direction of a linear relationship between two variables.\n",
        "*  A correlation coefficient of 0 indicates no linear relationship between the two variables, while a correlation coefficient of 1 indicates a perfect positive linear relationship"
      ],
      "metadata": {
        "id": "TVxDimi2phqP"
      }
    },
    {
      "cell_type": "markdown",
      "source": [
        "##### 2. What is/are the insight(s) found from the chart?"
      ],
      "metadata": {
        "id": "OVtJsKN_phqQ"
      }
    },
    {
      "cell_type": "markdown",
      "source": [
        "*  From the above plot,it is very significant that there is high collinearity.Each and every feature is correlated with every other feature.(i.e. Multicollinearity)"
      ],
      "metadata": {
        "id": "ngGi97qjphqQ"
      }
    },
    {
      "cell_type": "markdown",
      "source": [
        "##### 3. Will the gained insights help creating a positive business impact?\n",
        "Are there any insights that lead to negative growth? Justify with specific reason."
      ],
      "metadata": {
        "id": "lssrdh5qphqQ"
      }
    },
    {
      "cell_type": "markdown",
      "source": [
        "*  The gained insights are useful to understand and get an idea about the collinearity of the features so that we could deal with it in future model implentation."
      ],
      "metadata": {
        "id": "tBpY5ekJphqQ"
      }
    },
    {
      "cell_type": "markdown",
      "source": [
        "#### Chart - 10  -  Pair Plot"
      ],
      "metadata": {
        "id": "U2RJ9gkRphqQ"
      }
    },
    {
      "cell_type": "code",
      "source": [
        "# Chart - 10 visualization code\n",
        "      ## Visualizing the pair plot of the dependent and independent variable\n",
        "sns.pairplot(df)\n",
        "plt.show()"
      ],
      "metadata": {
        "id": "GM7a4YP4phqQ"
      },
      "execution_count": null,
      "outputs": []
    },
    {
      "cell_type": "markdown",
      "source": [
        "##### 1. Why did you pick the specific chart?"
      ],
      "metadata": {
        "id": "1M8mcRywphqQ"
      }
    },
    {
      "cell_type": "markdown",
      "source": [
        "*  A pair plot graph is used for analyzing the Yes Bank stock price because it helps explore relationships, detect patterns and trends, and identify outliers.\n",
        "*  It allows for correlation analysis and understanding of data distributions.\n",
        "* The visualization of time series data is facilitated, aiding in the identification of long-term trends.\n",
        "* Pair plots are visually appealing and effective for communicating findings to stakeholders. They can generate hypotheses and compare variables with other relevant factors.\n",
        "*  Pair plots support exploratory data analysis, serving as a starting point for further analysis."
      ],
      "metadata": {
        "id": "8agQvks0phqQ"
      }
    },
    {
      "cell_type": "markdown",
      "source": [
        "##### 2. What is/are the insight(s) found from the chart?"
      ],
      "metadata": {
        "id": "tgIPom80phqQ"
      }
    },
    {
      "cell_type": "markdown",
      "source": [
        "*  The variables Open, High, and Low show a strong correlation with the Close variable, indicating a close relationship between the stock's opening, highest, lowest, and closing prices.\n",
        "* The Open, High, and Low variables also exhibit a high correlation with each other, suggesting they move in sync and share similar trends.\n",
        "*  These correlations provide valuable insights for analyzing the Yes Bank stock and can serve as predictors of the closing price.\n",
        "\n",
        "*  Understanding these connections aids in making informed decisions and identifying patterns for forecasting future stock price movements.\n",
        "* However, it's important to consider that correlation does not imply causation, and comprehensive analysis requires additional factors and considerations."
      ],
      "metadata": {
        "id": "Qp13pnNzphqQ"
      }
    },
    {
      "cell_type": "markdown",
      "source": [
        "##### 3. Will the gained insights help creating a positive business impact?\n",
        "Are there any insights that lead to negative growth? Justify with specific reason."
      ],
      "metadata": {
        "id": "JMzcOPDDphqR"
      }
    },
    {
      "cell_type": "markdown",
      "source": [
        "*  The insights gained from the strong correlations between the Open, High, Low, and Close variables can have a positive business impact.\n",
        "*   They aid in making informed decisions and predicting the closing price, improving investment strategies for Yes Bank stock.\n",
        "*   However, correlation alone does not guarantee success, and comprehensive analysis is necessary, considering other factors and potential limitations.\n",
        "*   The insights do not directly lead to negative growth; rather, misinterpretation or over-reliance on correlations without considering other factors can result in negative outcomes.\n",
        "*   Thorough analysis, risk management, and understanding market conditions are crucial for mitigating risks and ensuring positive growth."
      ],
      "metadata": {
        "id": "R4Ka1PC2phqR"
      }
    },
    {
      "cell_type": "markdown",
      "source": [
        "#### Chart - 11"
      ],
      "metadata": {
        "id": "x-EpHcCOp1ci"
      }
    },
    {
      "cell_type": "code",
      "source": [
        "# Chart - 11 visualization code"
      ],
      "metadata": {
        "id": "mAQTIvtqp1cj"
      },
      "execution_count": null,
      "outputs": []
    },
    {
      "cell_type": "markdown",
      "source": [
        "##### 1. Why did you pick the specific chart?"
      ],
      "metadata": {
        "id": "X_VqEhTip1ck"
      }
    },
    {
      "cell_type": "markdown",
      "source": [
        "Answer Here."
      ],
      "metadata": {
        "id": "-vsMzt_np1ck"
      }
    },
    {
      "cell_type": "markdown",
      "source": [
        "##### 2. What is/are the insight(s) found from the chart?"
      ],
      "metadata": {
        "id": "8zGJKyg5p1ck"
      }
    },
    {
      "cell_type": "markdown",
      "source": [
        "Answer Here"
      ],
      "metadata": {
        "id": "ZYdMsrqVp1ck"
      }
    },
    {
      "cell_type": "markdown",
      "source": [
        "##### 3. Will the gained insights help creating a positive business impact?\n",
        "Are there any insights that lead to negative growth? Justify with specific reason."
      ],
      "metadata": {
        "id": "PVzmfK_Ep1ck"
      }
    },
    {
      "cell_type": "markdown",
      "source": [
        "Answer Here"
      ],
      "metadata": {
        "id": "druuKYZpp1ck"
      }
    },
    {
      "cell_type": "markdown",
      "source": [
        "#### Chart - 12"
      ],
      "metadata": {
        "id": "n3dbpmDWp1ck"
      }
    },
    {
      "cell_type": "code",
      "source": [
        "# Chart - 12 visualization code"
      ],
      "metadata": {
        "id": "bwevp1tKp1ck"
      },
      "execution_count": null,
      "outputs": []
    },
    {
      "cell_type": "markdown",
      "source": [
        "##### 1. Why did you pick the specific chart?"
      ],
      "metadata": {
        "id": "ylSl6qgtp1ck"
      }
    },
    {
      "cell_type": "markdown",
      "source": [
        "Answer Here."
      ],
      "metadata": {
        "id": "m2xqNkiQp1ck"
      }
    },
    {
      "cell_type": "markdown",
      "source": [
        "##### 2. What is/are the insight(s) found from the chart?"
      ],
      "metadata": {
        "id": "ZWILFDl5p1ck"
      }
    },
    {
      "cell_type": "markdown",
      "source": [
        "Answer Here"
      ],
      "metadata": {
        "id": "x-lUsV2mp1ck"
      }
    },
    {
      "cell_type": "markdown",
      "source": [
        "##### 3. Will the gained insights help creating a positive business impact?\n",
        "Are there any insights that lead to negative growth? Justify with specific reason."
      ],
      "metadata": {
        "id": "M7G43BXep1ck"
      }
    },
    {
      "cell_type": "markdown",
      "source": [
        "Answer Here"
      ],
      "metadata": {
        "id": "5wwDJXsLp1cl"
      }
    },
    {
      "cell_type": "markdown",
      "source": [
        "#### Chart - 13"
      ],
      "metadata": {
        "id": "Ag9LCva-p1cl"
      }
    },
    {
      "cell_type": "code",
      "source": [
        "# Chart - 13 visualization code"
      ],
      "metadata": {
        "id": "EUfxeq9-p1cl"
      },
      "execution_count": null,
      "outputs": []
    },
    {
      "cell_type": "markdown",
      "source": [
        "##### 1. Why did you pick the specific chart?"
      ],
      "metadata": {
        "id": "E6MkPsBcp1cl"
      }
    },
    {
      "cell_type": "markdown",
      "source": [
        "Answer Here."
      ],
      "metadata": {
        "id": "V22bRsFWp1cl"
      }
    },
    {
      "cell_type": "markdown",
      "source": [
        "##### 2. What is/are the insight(s) found from the chart?"
      ],
      "metadata": {
        "id": "2cELzS2fp1cl"
      }
    },
    {
      "cell_type": "markdown",
      "source": [
        "Answer Here"
      ],
      "metadata": {
        "id": "ozQPc2_Ip1cl"
      }
    },
    {
      "cell_type": "markdown",
      "source": [
        "##### 3. Will the gained insights help creating a positive business impact?\n",
        "Are there any insights that lead to negative growth? Justify with specific reason."
      ],
      "metadata": {
        "id": "3MPXvC8up1cl"
      }
    },
    {
      "cell_type": "markdown",
      "source": [
        "Answer Here"
      ],
      "metadata": {
        "id": "GL8l1tdLp1cl"
      }
    },
    {
      "cell_type": "markdown",
      "source": [
        "#### Chart - 14 - Correlation Heatmap"
      ],
      "metadata": {
        "id": "NC_X3p0fY2L0"
      }
    },
    {
      "cell_type": "code",
      "source": [
        "# Correlation Heatmap visualization code"
      ],
      "metadata": {
        "id": "xyC9zolEZNRQ"
      },
      "execution_count": null,
      "outputs": []
    },
    {
      "cell_type": "markdown",
      "source": [
        "##### 1. Why did you pick the specific chart?"
      ],
      "metadata": {
        "id": "UV0SzAkaZNRQ"
      }
    },
    {
      "cell_type": "markdown",
      "source": [
        "Answer Here."
      ],
      "metadata": {
        "id": "DVPuT8LYZNRQ"
      }
    },
    {
      "cell_type": "markdown",
      "source": [
        "##### 2. What is/are the insight(s) found from the chart?"
      ],
      "metadata": {
        "id": "YPEH6qLeZNRQ"
      }
    },
    {
      "cell_type": "markdown",
      "source": [
        "Answer Here"
      ],
      "metadata": {
        "id": "bfSqtnDqZNRR"
      }
    },
    {
      "cell_type": "markdown",
      "source": [
        "#### Chart - 15 - Pair Plot"
      ],
      "metadata": {
        "id": "q29F0dvdveiT"
      }
    },
    {
      "cell_type": "code",
      "source": [
        "# Pair Plot visualization code"
      ],
      "metadata": {
        "id": "o58-TEIhveiU"
      },
      "execution_count": null,
      "outputs": []
    },
    {
      "cell_type": "markdown",
      "source": [
        "##### 1. Why did you pick the specific chart?"
      ],
      "metadata": {
        "id": "EXh0U9oCveiU"
      }
    },
    {
      "cell_type": "markdown",
      "source": [
        "Answer Here."
      ],
      "metadata": {
        "id": "eMmPjTByveiU"
      }
    },
    {
      "cell_type": "markdown",
      "source": [
        "##### 2. What is/are the insight(s) found from the chart?"
      ],
      "metadata": {
        "id": "22aHeOlLveiV"
      }
    },
    {
      "cell_type": "markdown",
      "source": [
        "Answer Here"
      ],
      "metadata": {
        "id": "uPQ8RGwHveiV"
      }
    },
    {
      "cell_type": "markdown",
      "source": [
        "## ***5. Hypothesis Testing***"
      ],
      "metadata": {
        "id": "g-ATYxFrGrvw"
      }
    },
    {
      "cell_type": "markdown",
      "source": [
        "### Based on your chart experiments, define three hypothetical statements from the dataset. In the next three questions, perform hypothesis testing to obtain final conclusion about the statements through your code and statistical testing."
      ],
      "metadata": {
        "id": "Yfr_Vlr8HBkt"
      }
    },
    {
      "cell_type": "markdown",
      "source": [
        "Answer Here."
      ],
      "metadata": {
        "id": "-7MS06SUHkB-"
      }
    },
    {
      "cell_type": "markdown",
      "source": [
        "### Hypothetical Statement - 1"
      ],
      "metadata": {
        "id": "8yEUt7NnHlrM"
      }
    },
    {
      "cell_type": "markdown",
      "source": [
        "#### 1. State Your research hypothesis as a null hypothesis and alternate hypothesis."
      ],
      "metadata": {
        "id": "tEA2Xm5dHt1r"
      }
    },
    {
      "cell_type": "markdown",
      "source": [
        "Answer Here."
      ],
      "metadata": {
        "id": "HI9ZP0laH0D-"
      }
    },
    {
      "cell_type": "markdown",
      "source": [
        "#### 2. Perform an appropriate statistical test."
      ],
      "metadata": {
        "id": "I79__PHVH19G"
      }
    },
    {
      "cell_type": "code",
      "source": [
        "# Perform Statistical Test to obtain P-Value"
      ],
      "metadata": {
        "id": "oZrfquKtyian"
      },
      "execution_count": null,
      "outputs": []
    },
    {
      "cell_type": "markdown",
      "source": [
        "##### Which statistical test have you done to obtain P-Value?"
      ],
      "metadata": {
        "id": "Ou-I18pAyIpj"
      }
    },
    {
      "cell_type": "markdown",
      "source": [
        "Answer Here."
      ],
      "metadata": {
        "id": "s2U0kk00ygSB"
      }
    },
    {
      "cell_type": "markdown",
      "source": [
        "##### Why did you choose the specific statistical test?"
      ],
      "metadata": {
        "id": "fF3858GYyt-u"
      }
    },
    {
      "cell_type": "markdown",
      "source": [
        "Answer Here."
      ],
      "metadata": {
        "id": "HO4K0gP5y3B4"
      }
    },
    {
      "cell_type": "markdown",
      "source": [
        "### Hypothetical Statement - 2"
      ],
      "metadata": {
        "id": "4_0_7-oCpUZd"
      }
    },
    {
      "cell_type": "markdown",
      "source": [
        "#### 1. State Your research hypothesis as a null hypothesis and alternate hypothesis."
      ],
      "metadata": {
        "id": "hwyV_J3ipUZe"
      }
    },
    {
      "cell_type": "markdown",
      "source": [
        "Answer Here."
      ],
      "metadata": {
        "id": "FnpLGJ-4pUZe"
      }
    },
    {
      "cell_type": "markdown",
      "source": [
        "#### 2. Perform an appropriate statistical test."
      ],
      "metadata": {
        "id": "3yB-zSqbpUZe"
      }
    },
    {
      "cell_type": "code",
      "source": [
        "# Perform Statistical Test to obtain P-Value"
      ],
      "metadata": {
        "id": "sWxdNTXNpUZe"
      },
      "execution_count": null,
      "outputs": []
    },
    {
      "cell_type": "markdown",
      "source": [
        "##### Which statistical test have you done to obtain P-Value?"
      ],
      "metadata": {
        "id": "dEUvejAfpUZe"
      }
    },
    {
      "cell_type": "markdown",
      "source": [
        "Answer Here."
      ],
      "metadata": {
        "id": "oLDrPz7HpUZf"
      }
    },
    {
      "cell_type": "markdown",
      "source": [
        "##### Why did you choose the specific statistical test?"
      ],
      "metadata": {
        "id": "Fd15vwWVpUZf"
      }
    },
    {
      "cell_type": "markdown",
      "source": [
        "Answer Here."
      ],
      "metadata": {
        "id": "4xOGYyiBpUZf"
      }
    },
    {
      "cell_type": "markdown",
      "source": [
        "### Hypothetical Statement - 3"
      ],
      "metadata": {
        "id": "bn_IUdTipZyH"
      }
    },
    {
      "cell_type": "markdown",
      "source": [
        "#### 1. State Your research hypothesis as a null hypothesis and alternate hypothesis."
      ],
      "metadata": {
        "id": "49K5P_iCpZyH"
      }
    },
    {
      "cell_type": "markdown",
      "source": [
        "Answer Here."
      ],
      "metadata": {
        "id": "7gWI5rT9pZyH"
      }
    },
    {
      "cell_type": "markdown",
      "source": [
        "#### 2. Perform an appropriate statistical test."
      ],
      "metadata": {
        "id": "Nff-vKELpZyI"
      }
    },
    {
      "cell_type": "code",
      "source": [
        "# Perform Statistical Test to obtain P-Value"
      ],
      "metadata": {
        "id": "s6AnJQjtpZyI"
      },
      "execution_count": null,
      "outputs": []
    },
    {
      "cell_type": "markdown",
      "source": [
        "##### Which statistical test have you done to obtain P-Value?"
      ],
      "metadata": {
        "id": "kLW572S8pZyI"
      }
    },
    {
      "cell_type": "markdown",
      "source": [
        "Answer Here."
      ],
      "metadata": {
        "id": "ytWJ8v15pZyI"
      }
    },
    {
      "cell_type": "markdown",
      "source": [
        "##### Why did you choose the specific statistical test?"
      ],
      "metadata": {
        "id": "dWbDXHzopZyI"
      }
    },
    {
      "cell_type": "markdown",
      "source": [
        "Answer Here."
      ],
      "metadata": {
        "id": "M99G98V6pZyI"
      }
    },
    {
      "cell_type": "markdown",
      "source": [
        "## ***6. Feature Engineering & Data Pre-processing***"
      ],
      "metadata": {
        "id": "yLjJCtPM0KBk"
      }
    },
    {
      "cell_type": "markdown",
      "source": [
        "### 1. Handling Missing Values"
      ],
      "metadata": {
        "id": "xiyOF9F70UgQ"
      }
    },
    {
      "cell_type": "code",
      "source": [
        "# Handling Missing Values & Missing Value Imputation\n",
        "df.isnull().sum()"
      ],
      "metadata": {
        "id": "iRsAHk1K0fpS"
      },
      "execution_count": null,
      "outputs": []
    },
    {
      "cell_type": "markdown",
      "source": [
        "#### What all missing value imputation techniques have you used and why did you use those techniques?"
      ],
      "metadata": {
        "id": "7wuGOrhz0itI"
      }
    },
    {
      "cell_type": "markdown",
      "source": [
        "*  There are no missing values in the dataset.\n",
        "\n"
      ],
      "metadata": {
        "id": "1ixusLtI0pqI"
      }
    },
    {
      "cell_type": "markdown",
      "source": [
        "### 2. Handling Outliers"
      ],
      "metadata": {
        "id": "id1riN9m0vUs"
      }
    },
    {
      "cell_type": "code",
      "source": [
        "# Handling Outliers & Outlier treatments\n",
        "\n",
        "## Replacing outliner with null values and then replacing null values with median.\n",
        "\n",
        "# Replace outliers with null values\n",
        "Q1 = df.quantile(0.25)\n",
        "Q3 = df.quantile(0.75)\n",
        "IQR = Q3 - Q1\n",
        "\n",
        "lower_bound = Q1 - 1.5 * IQR\n",
        "upper_bound = Q3 + 1.5 * IQR\n",
        "\n",
        "df[(df < lower_bound) | (df > upper_bound)] = np.nan\n",
        "\n",
        "# Replace null values with median\n",
        "median = df.median()\n",
        "df = df.fillna(median)"
      ],
      "metadata": {
        "id": "M6w2CzZf04JK"
      },
      "execution_count": null,
      "outputs": []
    },
    {
      "cell_type": "markdown",
      "source": [
        "##### What all outlier treatment techniques have you used and why did you use those techniques?"
      ],
      "metadata": {
        "id": "578E2V7j08f6"
      }
    },
    {
      "cell_type": "markdown",
      "source": [
        "*  Firstly I went with log transformation of features in the visualization part where transformation to the data can sometimes help to normalize the distribution and reduce the impact of outliers. This transformation can make the data more suitable for analysis while minimizing the effect of extreme values but it is not the most robust method to deal with outliers.\n",
        "\n",
        "*  Secondly, I came up with the Interquartile Range (IQR) method which is a robust statistical method in which I replaced the outliers of all feature with its respective median so that the distribution do not drastically change and should not be affected by the outliers.\n",
        "\n"
      ],
      "metadata": {
        "id": "uGZz5OrT1HH-"
      }
    },
    {
      "cell_type": "markdown",
      "source": [
        "### 3. Categorical Encoding"
      ],
      "metadata": {
        "id": "89xtkJwZ18nB"
      }
    },
    {
      "cell_type": "code",
      "source": [
        "# Encode your categorical columns ### there is no categorical variable in our data set"
      ],
      "metadata": {
        "id": "21JmIYMG2hEo"
      },
      "execution_count": null,
      "outputs": []
    },
    {
      "cell_type": "markdown",
      "source": [
        "#### What all categorical encoding techniques have you used & why did you use those techniques?"
      ],
      "metadata": {
        "id": "67NQN5KX2AMe"
      }
    },
    {
      "cell_type": "markdown",
      "source": [
        "*  In our data set all the columns are numerical, including the 'Date' column being represented as an object type. Since all the columns are already numerical, there is no need for categorical encoding in this particular dataset.\n",
        "\n",
        "*  Categorical encoding is typically required when you have categorical variables that need to be converted into numerical representations for analysis or machine learning tasks. In our case, all the columns ('Open', 'High', 'Low', 'Close') are numerical, representing different aspects of the stock closing price."
      ],
      "metadata": {
        "id": "UDaue5h32n_G"
      }
    },
    {
      "cell_type": "markdown",
      "source": [
        "### 4. Textual Data Preprocessing\n",
        "(It's mandatory for textual dataset i.e., NLP, Sentiment Analysis, Text Clustering etc.)"
      ],
      "metadata": {
        "id": "Iwf50b-R2tYG"
      }
    },
    {
      "cell_type": "markdown",
      "source": [
        "#### 1. Expand Contraction"
      ],
      "metadata": {
        "id": "GMQiZwjn3iu7"
      }
    },
    {
      "cell_type": "code",
      "source": [
        "# Expand Contraction"
      ],
      "metadata": {
        "id": "PTouz10C3oNN"
      },
      "execution_count": null,
      "outputs": []
    },
    {
      "cell_type": "markdown",
      "source": [
        "#### 2. Lower Casing"
      ],
      "metadata": {
        "id": "WVIkgGqN3qsr"
      }
    },
    {
      "cell_type": "code",
      "source": [
        "# Lower Casing"
      ],
      "metadata": {
        "id": "88JnJ1jN3w7j"
      },
      "execution_count": null,
      "outputs": []
    },
    {
      "cell_type": "markdown",
      "source": [
        "#### 3. Removing Punctuations"
      ],
      "metadata": {
        "id": "XkPnILGE3zoT"
      }
    },
    {
      "cell_type": "code",
      "source": [
        "# Remove Punctuations"
      ],
      "metadata": {
        "id": "vqbBqNaA33c0"
      },
      "execution_count": null,
      "outputs": []
    },
    {
      "cell_type": "markdown",
      "source": [
        "#### 4. Removing URLs & Removing words and digits contain digits."
      ],
      "metadata": {
        "id": "Hlsf0x5436Go"
      }
    },
    {
      "cell_type": "code",
      "source": [
        "# Remove URLs & Remove words and digits contain digits"
      ],
      "metadata": {
        "id": "2sxKgKxu4Ip3"
      },
      "execution_count": null,
      "outputs": []
    },
    {
      "cell_type": "markdown",
      "source": [
        "#### 5. Removing Stopwords & Removing White spaces"
      ],
      "metadata": {
        "id": "mT9DMSJo4nBL"
      }
    },
    {
      "cell_type": "code",
      "source": [
        "# Remove Stopwords"
      ],
      "metadata": {
        "id": "T2LSJh154s8W"
      },
      "execution_count": null,
      "outputs": []
    },
    {
      "cell_type": "code",
      "source": [
        "# Remove White spaces"
      ],
      "metadata": {
        "id": "EgLJGffy4vm0"
      },
      "execution_count": null,
      "outputs": []
    },
    {
      "cell_type": "markdown",
      "source": [
        "#### 6. Rephrase Text"
      ],
      "metadata": {
        "id": "c49ITxTc407N"
      }
    },
    {
      "cell_type": "code",
      "source": [
        "# Rephrase Text"
      ],
      "metadata": {
        "id": "foqY80Qu48N2"
      },
      "execution_count": null,
      "outputs": []
    },
    {
      "cell_type": "markdown",
      "source": [
        "#### 7. Tokenization"
      ],
      "metadata": {
        "id": "OeJFEK0N496M"
      }
    },
    {
      "cell_type": "code",
      "source": [
        "# Tokenization"
      ],
      "metadata": {
        "id": "ijx1rUOS5CUU"
      },
      "execution_count": null,
      "outputs": []
    },
    {
      "cell_type": "markdown",
      "source": [
        "#### 8. Text Normalization"
      ],
      "metadata": {
        "id": "9ExmJH0g5HBk"
      }
    },
    {
      "cell_type": "code",
      "source": [
        "# Normalizing Text (i.e., Stemming, Lemmatization etc.)"
      ],
      "metadata": {
        "id": "AIJ1a-Zc5PY8"
      },
      "execution_count": null,
      "outputs": []
    },
    {
      "cell_type": "markdown",
      "source": [
        "##### Which text normalization technique have you used and why?"
      ],
      "metadata": {
        "id": "cJNqERVU536h"
      }
    },
    {
      "cell_type": "markdown",
      "source": [
        "\n",
        "\n",
        "Answer Here."
      ],
      "metadata": {
        "id": "Z9jKVxE06BC1"
      }
    },
    {
      "cell_type": "markdown",
      "source": [
        "#### 9. Part of speech tagging"
      ],
      "metadata": {
        "id": "k5UmGsbsOxih"
      }
    },
    {
      "cell_type": "code",
      "source": [
        "# POS Taging"
      ],
      "metadata": {
        "id": "btT3ZJBAO6Ik"
      },
      "execution_count": null,
      "outputs": []
    },
    {
      "cell_type": "markdown",
      "source": [
        "#### 10. Text Vectorization"
      ],
      "metadata": {
        "id": "T0VqWOYE6DLQ"
      }
    },
    {
      "cell_type": "code",
      "source": [
        "# Vectorizing Text"
      ],
      "metadata": {
        "id": "yBRtdhth6JDE"
      },
      "execution_count": null,
      "outputs": []
    },
    {
      "cell_type": "markdown",
      "source": [
        "##### Which text vectorization technique have you used and why?"
      ],
      "metadata": {
        "id": "qBMux9mC6MCf"
      }
    },
    {
      "cell_type": "markdown",
      "source": [
        "Answer Here."
      ],
      "metadata": {
        "id": "su2EnbCh6UKQ"
      }
    },
    {
      "cell_type": "markdown",
      "source": [
        "### 4. Feature Manipulation & Selection"
      ],
      "metadata": {
        "id": "-oLEiFgy-5Pf"
      }
    },
    {
      "cell_type": "markdown",
      "source": [
        "#### 1. Feature Manipulation"
      ],
      "metadata": {
        "id": "C74aWNz2AliB"
      }
    },
    {
      "cell_type": "code",
      "source": [
        "# Manipulating the feature/variable-\n",
        "\n",
        "corr = df.corr()"
      ],
      "metadata": {
        "id": "7LvC6nnPGiFR"
      },
      "execution_count": null,
      "outputs": []
    },
    {
      "cell_type": "markdown",
      "source": [
        "*  Generally it might happen when we replaced outliers with median, our correlation b/w independent and dependent variable got distorted that will affect our model accuracy, so analyzing again the correlation b/w independent and variable, if distorted then will apply log transformation to data frame\n",
        "[ ]\n"
      ],
      "metadata": {
        "id": "vKpGQSKDIK-w"
      }
    },
    {
      "cell_type": "markdown",
      "source": [
        "#### 2. Feature Selection"
      ],
      "metadata": {
        "id": "2DejudWSA-a0"
      }
    },
    {
      "cell_type": "code",
      "source": [
        "# Select your features wisely to avoid overfitting\n",
        "      ## Feature selection for Independent and dependent variable\n",
        "independent_variable= [i for i in df.columns if i not in ['Close']]\n",
        "dependent_variable= 'Close'"
      ],
      "metadata": {
        "id": "YLhe8UmaBCEE"
      },
      "execution_count": null,
      "outputs": []
    },
    {
      "cell_type": "markdown",
      "source": [
        "##### What all feature selection methods have you used  and why?"
      ],
      "metadata": {
        "id": "pEMng2IbBLp7"
      }
    },
    {
      "cell_type": "markdown",
      "source": [
        "Answer Here."
      ],
      "metadata": {
        "id": "rb2Lh6Z8BgGs"
      }
    },
    {
      "cell_type": "markdown",
      "source": [
        "##### Which all features you found important and why?"
      ],
      "metadata": {
        "id": "rAdphbQ9Bhjc"
      }
    },
    {
      "cell_type": "markdown",
      "source": [
        "* Open', 'High', 'Low' are Important features as they contain maximum information which will be very helpful for prediction.\n",
        "\n"
      ],
      "metadata": {
        "id": "fGgaEstsBnaf"
      }
    },
    {
      "cell_type": "markdown",
      "source": [
        "### 5. Data Transformation"
      ],
      "metadata": {
        "id": "TNVZ9zx19K6k"
      }
    },
    {
      "cell_type": "markdown",
      "source": [
        "#### Do you think that your data needs to be transformed? If yes, which transformation have you used. Explain Why?"
      ],
      "metadata": {
        "id": "nqoHp30x9hH9"
      }
    },
    {
      "cell_type": "code",
      "source": [
        "# Transform Your data\n",
        "## log transfomation method\n",
        "df['Open']= np.log(df['Open'])\n",
        "df['High']= np.log(df['High'])\n",
        "df['Low']= np.log(df['Low'])\n",
        "df['Close']= np.log(df['Close'])"
      ],
      "metadata": {
        "id": "I6quWQ1T9rtH"
      },
      "execution_count": null,
      "outputs": []
    },
    {
      "cell_type": "code",
      "source": [
        "## Checking the correlation b/w independent and dependent variable that it is restored or not, after data transformation.\n",
        "cor_log=df.corr()\n",
        "sns.heatmap(cor_log,annot=True)"
      ],
      "metadata": {
        "id": "fosQa9b2JFsl"
      },
      "execution_count": null,
      "outputs": []
    },
    {
      "cell_type": "markdown",
      "source": [
        "###Data Transformation is required and I have used log transformation(np.log) for the data which is given. The reasons behind the transformation are as follows-\n",
        "\n",
        "*  Data which is given is right skewed so to make the distribution normal and symmetric transformation is required which will help to implement the model correctly and pricesly which help us to reach towards desired accuracy.\n",
        "*  After treating outliers the correlation b/w independent and dependent variable got distorted so to restore that, transformation is required and as we can see from the above heatmap the correlation are restored which will make our model more accurate for prediction, but it has multicollinearity and to deal with it we have to drop that feature which is least correlated with the target variable, but by doing so we lose the valuable information as our dataset is small, so we continue with the multicollinearity and check how our model behaves with this phenomena."
      ],
      "metadata": {
        "id": "QBXwmWkXKenI"
      }
    },
    {
      "cell_type": "markdown",
      "source": [
        "### 7. Dimesionality Reduction"
      ],
      "metadata": {
        "id": "1UUpS68QDMuG"
      }
    },
    {
      "cell_type": "markdown",
      "source": [
        "##### Do you think that dimensionality reduction is needed? Explain Why?"
      ],
      "metadata": {
        "id": "kexQrXU-DjzY"
      }
    },
    {
      "cell_type": "code",
      "source": [
        "# DImensionality Reduction (If needed)"
      ],
      "metadata": {
        "id": "kQfvxBBHDvCa"
      },
      "execution_count": null,
      "outputs": []
    },
    {
      "cell_type": "markdown",
      "source": [
        "##### Which dimensionality reduction technique have you used and why? (If dimensionality reduction done on dataset.)"
      ],
      "metadata": {
        "id": "T5CmagL3EC8N"
      }
    },
    {
      "cell_type": "markdown",
      "source": [
        "*  Since the dataset is already small in size, there is no need for dimensionality reduction techniques. With a limited number of observations, attempting to reduce the number of features may not provide significant benefits and could potentially lead to loss of valuable information. Therefore, it is advisable to retain all the available features for analysis or modeling purposes without applying dimensionality reduction methods.."
      ],
      "metadata": {
        "id": "ZKr75IDuEM7t"
      }
    },
    {
      "cell_type": "markdown",
      "source": [
        "### 8. Data Splitting"
      ],
      "metadata": {
        "id": "BhH2vgX9EjGr"
      }
    },
    {
      "cell_type": "code",
      "source": [
        "# Split your data to train and test. Choose Splitting ratio wisely.\n",
        "# importing the train_test_split\n",
        "from sklearn.model_selection import train_test_split\n",
        "\n"
      ],
      "metadata": {
        "id": "0CTyd2UwEyNM"
      },
      "execution_count": null,
      "outputs": []
    },
    {
      "cell_type": "code",
      "source": [
        "# making x and y variable\n",
        "X= df[independent_variable].values\n",
        "y=df[dependent_variable].values"
      ],
      "metadata": {
        "id": "r7tDsg9uQK1O"
      },
      "execution_count": null,
      "outputs": []
    },
    {
      "cell_type": "code",
      "source": [
        "X_train,X_test,Y_train,Y_test = train_test_split( X ,y , test_size= 0.2,random_state=0)\n",
        "print(X_train.shape,X_test.shape)\n",
        "\n",
        "print(Y_train.shape , Y_test.shape)"
      ],
      "metadata": {
        "id": "yOKnI7-ZP9h4"
      },
      "execution_count": null,
      "outputs": []
    },
    {
      "cell_type": "markdown",
      "source": [
        "##### What data splitting ratio have you used and why?"
      ],
      "metadata": {
        "id": "qjKvONjwE8ra"
      }
    },
    {
      "cell_type": "markdown",
      "source": [
        "*  For the Data spliting, the 20% data has been splitted as test data. As the data is already very small 20 % would be enough to test upon the training model."
      ],
      "metadata": {
        "id": "wjBrOD2KQjUy"
      }
    },
    {
      "cell_type": "markdown",
      "source": [
        "### 9. Data Scaling"
      ],
      "metadata": {
        "id": "rMDnDkt2B6du"
      }
    },
    {
      "cell_type": "code",
      "source": [
        "# Scaling your data\n",
        "scaler= MinMaxScaler()\n",
        "X_train1= scaler.fit_transform(X_train)\n",
        "X_test1 = scaler.transform(X_test)"
      ],
      "metadata": {
        "id": "dL9LWpySC6x_"
      },
      "execution_count": null,
      "outputs": []
    },
    {
      "cell_type": "markdown",
      "source": [
        "##### Which method have you used to scale you data and why?"
      ],
      "metadata": {
        "id": "yiiVWRdJDDil"
      }
    },
    {
      "cell_type": "markdown",
      "source": [
        "* I  have used Standard and MinMax Scaler to scale the data.The reason to use scaling is that it provides benefits in terms of algorithm performance, convergence speed, and interpretability."
      ],
      "metadata": {
        "id": "Y2lJ8cobFDb_"
      }
    },
    {
      "cell_type": "markdown",
      "source": [
        "### 9. Handling Imbalanced Dataset"
      ],
      "metadata": {
        "id": "P1XJ9OREExlT"
      }
    },
    {
      "cell_type": "markdown",
      "source": [
        "##### Do you think the dataset is imbalanced? Explain Why."
      ],
      "metadata": {
        "id": "VFOzZv6IFROw"
      }
    },
    {
      "cell_type": "markdown",
      "source": [
        "Answer Here."
      ],
      "metadata": {
        "id": "GeKDIv7pFgcC"
      }
    },
    {
      "cell_type": "code",
      "source": [
        "# Handling Imbalanced Dataset (If needed)"
      ],
      "metadata": {
        "id": "nQsRhhZLFiDs"
      },
      "execution_count": null,
      "outputs": []
    },
    {
      "cell_type": "markdown",
      "source": [
        "##### What technique did you use to handle the imbalance dataset and why? (If needed to be balanced)"
      ],
      "metadata": {
        "id": "TIqpNgepFxVj"
      }
    },
    {
      "cell_type": "markdown",
      "source": [
        "Answer Here."
      ],
      "metadata": {
        "id": "qbet1HwdGDTz"
      }
    },
    {
      "cell_type": "markdown",
      "source": [
        "## ***7. ML Model Implementation***"
      ],
      "metadata": {
        "id": "VfCC591jGiD4"
      }
    },
    {
      "cell_type": "markdown",
      "source": [
        "### ML Model - 1 ▶ Linear Regression\n"
      ],
      "metadata": {
        "id": "OB4l2ZhMeS1U"
      }
    },
    {
      "cell_type": "markdown",
      "source": [
        "![image.png](data:image/png;base64,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)"
      ],
      "metadata": {
        "id": "Fb3cWGNszVZN"
      }
    },
    {
      "cell_type": "markdown",
      "source": [
        "Linear Regression is a powerful machine learning algorithm that falls under the category of supervised learning. It is specifically designed for regression tasks, where the goal is to predict a continuous target variable based on independent variables. In regression analysis, the algorithm establishes a relationship between the predictor variables and the target variable to make accurate predictions.\n",
        "\n",
        "The primary objective of Linear Regression is to identify and quantify the relationship between variables. By examining the patterns and trends in the data, the algorithm enables us to understand how changes in one variable affect the target variable. This understanding is crucial for making informed decisions and forecasting future outcomes.\n",
        "\n",
        "Linear Regression is widely employed in various domains, including finance, economics, social sciences, and engineering. It finds applications in areas such as sales forecasting, housing price prediction, demand estimation, and trend analysis. By leveraging the insights gained from analyzing the relationship between variables, Linear Regression empowers us to make reliable forecasts and make informed business decisions.\n",
        "\n",
        "In summary, Linear Regression is a versatile algorithm that allows us to explore the relationships between variables and make predictions based on those relationships. Its ability to model the dependencies between variables makes it a valuable tool for understanding data and making accurate forecasts in numerous fields."
      ],
      "metadata": {
        "id": "jxcrS-mLzr1w"
      }
    },
    {
      "cell_type": "code",
      "source": [
        "# ML Model - 1 Implementation\n",
        "# Create an instance of the LinearRegression model\n",
        "linear_reg = LinearRegression()\n",
        "\n",
        "# Fit the Algorithm\n",
        "# Fit the Linear Regression model to the training data\n",
        "linear_reg.fit(X_train1, Y_train)"
      ],
      "metadata": {
        "id": "7ebyywQieS1U"
      },
      "execution_count": null,
      "outputs": []
    },
    {
      "cell_type": "code",
      "source": [
        "\n",
        "# Predict on the model\n",
        "y_pred_lin = linear_reg.predict(X_test1)\n"
      ],
      "metadata": {
        "id": "rlxk6pC64F7g"
      },
      "execution_count": null,
      "outputs": []
    },
    {
      "cell_type": "code",
      "source": [
        "linear_reg.score(X_train1, Y_train)"
      ],
      "metadata": {
        "id": "B11X5lXN7SPY"
      },
      "execution_count": null,
      "outputs": []
    },
    {
      "cell_type": "code",
      "source": [
        "#Checking the training accuracy of model\n",
        "round(linear_reg.score(X_train1,Y_train),6)\n"
      ],
      "metadata": {
        "id": "11otn5e678vJ"
      },
      "execution_count": null,
      "outputs": []
    },
    {
      "cell_type": "code",
      "source": [
        "#Checking the testing accuracy of model\n",
        "round(linear_reg.score(X_test1,Y_test),4)"
      ],
      "metadata": {
        "id": "ahiyY-u68JT0"
      },
      "execution_count": null,
      "outputs": []
    },
    {
      "cell_type": "code",
      "source": [
        "# Checking the model parameters\n",
        "print(\"Coefficients:\", linear_reg.coef_)\n",
        "print(\"Intercept:\", linear_reg.intercept_)"
      ],
      "metadata": {
        "id": "cVXkx2Kz4tgh"
      },
      "execution_count": null,
      "outputs": []
    },
    {
      "cell_type": "markdown",
      "source": [
        "#### 1. Explain the ML Model used and it's performance using Evaluation metric Score Chart."
      ],
      "metadata": {
        "id": "ArJBuiUVfxKd"
      }
    },
    {
      "cell_type": "code",
      "source": [
        "from numpy import math"
      ],
      "metadata": {
        "id": "u78-tHaL_BDn"
      },
      "execution_count": null,
      "outputs": []
    },
    {
      "cell_type": "code",
      "source": [
        "# Visualizing evaluation Metric Score chart\n",
        "train_accuracy = round(linear_reg.score(X_train1,Y_train),4)\n",
        "test_accuracy = round(linear_reg.score(X_test1,Y_test),4)\n",
        "print( 'Train accuracy is ',train_accuracy)\n",
        "print(' Test accuracy is ', test_accuracy)\n",
        "print(\"MSE value :\", round(mean_squared_error(Y_test, y_pred_lin), 4))\n",
        "print(\"RMSE value :\", round(math.sqrt(mean_squared_error(Y_test, y_pred_lin)), 4))\n",
        "print(\"MAE value :\", round(mean_absolute_error(Y_test, y_pred_lin), 4))\n",
        "print(\"MAPE value :\", round(mean_absolute_percentage_error(Y_test, y_pred_lin), 4))\n",
        "print(\"r2 score   :\",round(r2_score(Y_test,y_pred_lin),4))"
      ],
      "metadata": {
        "id": "rqD5ZohzfxKe"
      },
      "execution_count": null,
      "outputs": []
    },
    {
      "cell_type": "code",
      "source": [
        "# Liner Regression plot- Actual price vs predicted price.\n",
        "plt.figure(figsize=(12,6))\n",
        "plt.plot((y_pred_lin),color='orange')\n",
        "plt.plot((Y_test))\n",
        "plt.suptitle('Actual Vs Predicted Close Price:Linear Regression', fontsize =14)\n",
        "plt.legend([\"Predicted\",\"Actual\"], fontsize=14)\n",
        "plt.xlabel('No of Test Data', fontsize= 14)\n",
        "plt.ylabel('Closing Price', fontsize= 14)\n",
        "plt.grid(True)"
      ],
      "metadata": {
        "id": "lSC-F_rcAPRq"
      },
      "execution_count": null,
      "outputs": []
    },
    {
      "cell_type": "markdown",
      "source": [
        "\n",
        "\n",
        "###The evaluation metrics for the Linear Regression model are as follows:\n",
        "\n",
        "1.  Mean Squared Error (MSE): The MSE value is 0.0489, indicating the average squared difference between the actual and predicted Close prices. Lower values indicate better model performance, as they represent a smaller overall prediction error.\n",
        "\n",
        "2.  Root Mean Squared Error (RMSE): The RMSE value is 0.2211, which is the square root of the MSE. It provides a measure of the average difference between the actual and predicted Close prices in the original scale. Again, a lower value signifies better predictive accuracy.\n",
        "\n",
        "3.  Mean Absolute Error (MAE): The MAE value is 0.0911, representing the average absolute difference between the actual and predicted Close prices. Similar to MSE and RMSE, a smaller MAE indicates better model performance.\n",
        "\n",
        "4.  R-2 Score: The R-2 score is 0.9408, reflecting the proportion of variance in the dependent variable (Close prices) explained by the independent variables. A score closer to 1 indicates a better fit of the model to the data.\n",
        "\n",
        "\n"
      ],
      "metadata": {
        "id": "Gi5bJZuYBpIG"
      }
    },
    {
      "cell_type": "markdown",
      "source": [
        "#### 2. Cross- Validation & Hyperparameter Tuning"
      ],
      "metadata": {
        "id": "4qY1EAkEfxKe"
      }
    },
    {
      "cell_type": "code",
      "source": [
        "# ML Model - 1 Implementation with hyperparameter optimization techniques (i.e., GridSearch CV, RandomSearch CV, Bayesian Optimization etc.)\n",
        "\n",
        "# Fit the Algorithm\n",
        "\n",
        "# Predict on the model"
      ],
      "metadata": {
        "id": "Dy61ujd6fxKe"
      },
      "execution_count": null,
      "outputs": []
    },
    {
      "cell_type": "markdown",
      "source": [
        "##### Which hyperparameter optimization technique have you used and why?"
      ],
      "metadata": {
        "id": "PiV4Ypx8fxKe"
      }
    },
    {
      "cell_type": "markdown",
      "source": [
        "Answer Here."
      ],
      "metadata": {
        "id": "negyGRa7fxKf"
      }
    },
    {
      "cell_type": "markdown",
      "source": [
        "##### Have you seen any improvement? Note down the improvement with updates Evaluation metric Score Chart."
      ],
      "metadata": {
        "id": "TfvqoZmBfxKf"
      }
    },
    {
      "cell_type": "markdown",
      "source": [
        "Answer Here."
      ],
      "metadata": {
        "id": "OaLui8CcfxKf"
      }
    },
    {
      "cell_type": "markdown",
      "source": [
        "### ML Model - 2 ▶ Lasso Regression"
      ],
      "metadata": {
        "id": "dJ2tPlVmpsJ0"
      }
    },
    {
      "cell_type": "markdown",
      "source": [
        "![image.png](data:image/png;base64,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)"
      ],
      "metadata": {
        "id": "GwOS5JCBDhbr"
      }
    },
    {
      "cell_type": "markdown",
      "source": [
        "**Lasso regression, also known as Penalized regression, is a machine learning method commonly used for variable selection. It offers improved prediction accuracy compared to other regression models. By applying Lasso regularization, the model can enhance interpretability while effectively reducing the impact of less relevant variables. This regularization technique plays a crucial role in feature selection and contributes to a more accurate and interpretable model.**\n",
        "\n"
      ],
      "metadata": {
        "id": "Tihn7xtVEIqM"
      }
    },
    {
      "cell_type": "code",
      "source": [
        "# importing the lasso regression\n",
        "from sklearn.linear_model import Lasso"
      ],
      "metadata": {
        "id": "wF3GOEA4Eied"
      },
      "execution_count": null,
      "outputs": []
    },
    {
      "cell_type": "code",
      "source": [
        "# ML Model - 2 Implementation\n",
        "lasso = Lasso(alpha = 0.00001)\n",
        "\n",
        "# Fit the Algorithm\n",
        "lasso.fit(X_train1, Y_train)"
      ],
      "metadata": {
        "id": "1_n4uglJE-up"
      },
      "execution_count": null,
      "outputs": []
    },
    {
      "cell_type": "code",
      "source": [
        "# Predict on the model\n",
        "y_pred_lasso = lasso.predict(X_test1)\n",
        "# Print the coefficients of the Lasso model\n",
        "print(\"Coefficients:\", lasso.coef_)\n",
        "\n",
        "# Print the intercept of the Lasso model\n",
        "print(\"Intercept:\", lasso.intercept_)\n"
      ],
      "metadata": {
        "id": "_zb9eVUKFZES"
      },
      "execution_count": null,
      "outputs": []
    },
    {
      "cell_type": "markdown",
      "source": [
        "#### 1. Explain the ML Model used and it's performance using Evaluation metric Score Chart."
      ],
      "metadata": {
        "id": "JWYfwnehpsJ1"
      }
    },
    {
      "cell_type": "code",
      "source": [
        "# Visualizing evaluation Metric Score chart\n",
        "train_accuracy = round(lasso.score(X_train1,Y_train),4)\n",
        "test_accuracy = round(lasso.score(X_test1,Y_test),4)\n",
        "print( 'Train accuracy is ',train_accuracy)\n",
        "print(' Test accuracy is ', test_accuracy)\n",
        "print(\"MSE value :\", round(mean_squared_error(Y_test, y_pred_lin), 4))\n",
        "print(\"RMSE value :\", round(math.sqrt(mean_squared_error(Y_test, y_pred_lin)), 4))\n",
        "print(\"MAE value :\", round(mean_absolute_error(Y_test, y_pred_lin), 4))\n",
        "print(\"MAPE value :\", round(mean_absolute_percentage_error(Y_test, y_pred_lin), 4))\n",
        "print(\"r2 score   :\",round(r2_score(Y_test,y_pred_lin),4))"
      ],
      "metadata": {
        "id": "yEl-hgQWpsJ1"
      },
      "execution_count": null,
      "outputs": []
    },
    {
      "cell_type": "code",
      "source": [
        "# Lasso Regression plot- Actual price vs predicted price.\n",
        "plt.figure(figsize=(12,6))\n",
        "plt.plot((y_pred_lasso),color='red')\n",
        "plt.plot((Y_test),color='blue')\n",
        "plt.suptitle('Actual Vs Predicted Close Price:Lasso Regression', fontsize =14)\n",
        "plt.legend([\"Predicted\",\"Actual\"], fontsize=14)\n",
        "plt.xlabel('No of Test Data', fontsize= 14)\n",
        "plt.ylabel('Closing Price', fontsize= 14)\n",
        "plt.grid(True)"
      ],
      "metadata": {
        "id": "rHZPGtNDHSRc"
      },
      "execution_count": null,
      "outputs": []
    },
    {
      "cell_type": "markdown",
      "source": [
        "#### 2. Cross- Validation & Hyperparameter Tuning"
      ],
      "metadata": {
        "id": "-jK_YjpMpsJ2"
      }
    },
    {
      "cell_type": "markdown",
      "source": [
        "Cross-validation with hyperparameter tuning refers to the process of combining cross-validation with the search for the optimal hyperparameters of a machine learning model. The advantage of using cross-validation with hyperparameter tuning is that it provides a more reliable estimate of the model's performance by evaluating different hyperparameter combinations on multiple folds of the data. It helps to avoid overfitting and ensures that the selected hyperparameters generalize well to unseen data.\n"
      ],
      "metadata": {
        "id": "3OGOdvbSHsSL"
      }
    },
    {
      "cell_type": "code",
      "source": [
        "from sklearn.model_selection import GridSearchCV"
      ],
      "metadata": {
        "id": "BkRYpP4cIXye"
      },
      "execution_count": null,
      "outputs": []
    },
    {
      "cell_type": "code",
      "source": [
        "# ML Model - 1 Implementation with hyperparameter optimization techniques (i.e., GridSearch CV, RandomSearch CV, Bayesian Optimization etc.)\n",
        "lasso_cv = Lasso()\n",
        "# Fit the Algorithm\n",
        "# Fit the Algorithm\n",
        "parameters = {'alpha': [1e-15,1e-13,1e-10,1e-8,1e-5,1e-4,1e-3,1e-2,1e-1,1,5,10,20,30,40,45,50,55,60,100]}\n",
        "lasso_regressor = GridSearchCV(lasso_cv, parameters, scoring='neg_mean_squared_error', cv=5)\n",
        "lasso_regressor.fit(X_train1, Y_train)\n",
        "\n",
        "print(\"The best fit alpha value is found out to be :\" ,lasso_regressor.best_params_)\n",
        "print(\"\\nUsing \",lasso_regressor.best_params_, \" the negative mean squared error is: \", lasso_regressor.best_score_)\n"
      ],
      "metadata": {
        "id": "Dn0EOfS6psJ2"
      },
      "execution_count": null,
      "outputs": []
    },
    {
      "cell_type": "code",
      "source": [
        "lasso_best=Lasso(alpha = 0.001)\n",
        "lasso_best.fit(X_train1,Y_train)"
      ],
      "metadata": {
        "id": "-oR-REe4Iya9"
      },
      "execution_count": null,
      "outputs": []
    },
    {
      "cell_type": "code",
      "source": [
        "# Predict the model\n",
        "y_pred_best=lasso_best.predict(X_test1)"
      ],
      "metadata": {
        "id": "YbNzT8ASI6d9"
      },
      "execution_count": null,
      "outputs": []
    },
    {
      "cell_type": "code",
      "source": [
        "# Visualizing using evaluation Metric Score chart\n",
        "train_accuracy = lasso_best.score(X_train1,Y_train)\n",
        "test_accuracy = r2_score(Y_test,y_pred_best)\n",
        "print( 'Train accuracy is ',train_accuracy)\n",
        "print(' Test accuracy is ', test_accuracy)\n",
        "print(\"MSE value :\", round(mean_squared_error(Y_test, y_pred_lin), 4))\n",
        "print(\"RMSE value :\", round(math.sqrt(mean_squared_error(Y_test, y_pred_lin)), 4))\n",
        "print(\"MAE value :\", round(mean_absolute_error(Y_test, y_pred_lin), 4))\n",
        "print(\"MAPE value :\", round(mean_absolute_percentage_error(Y_test, y_pred_lin), 4))\n",
        "print(\"r2 score   :\",round(r2_score(Y_test,y_pred_lin),4))"
      ],
      "metadata": {
        "id": "y8liQBOWI88h"
      },
      "execution_count": null,
      "outputs": []
    },
    {
      "cell_type": "code",
      "source": [
        "# Lasso Regression plot after cross-validation - Actual price vs predicted price.\n",
        "plt.figure(figsize=(12,6))\n",
        "plt.plot((y_pred_best),color='red')\n",
        "plt.plot((Y_test),color='blue')\n",
        "plt.suptitle('Actual Vs Predicted Close Price:Lasso Regression(cross validation)', fontsize =14)\n",
        "plt.legend([\"Predicted\",\"Actual\"], fontsize=14)\n",
        "plt.xlabel('No of Test Data', fontsize= 14)\n",
        "plt.ylabel('Closing Price', fontsize= 14)\n",
        "plt.grid(True)"
      ],
      "metadata": {
        "id": "cz3dPp71lDUE"
      },
      "execution_count": null,
      "outputs": []
    },
    {
      "cell_type": "markdown",
      "source": [
        "##### Which hyperparameter optimization technique have you used and why?"
      ],
      "metadata": {
        "id": "HAih1iBOpsJ2"
      }
    },
    {
      "cell_type": "markdown",
      "source": [
        "I have used GridSearch cross validation technique. It gives functionality for parameter evaluating at the given regularizrion technique.\n",
        "\n"
      ],
      "metadata": {
        "id": "9kBgjYcdpsJ2"
      }
    },
    {
      "cell_type": "markdown",
      "source": [
        "##### Have you seen any improvement? Note down the improvement with updates Evaluation metric Score Chart."
      ],
      "metadata": {
        "id": "zVGeBEFhpsJ2"
      }
    },
    {
      "cell_type": "markdown",
      "source": [
        "In the normal Lasso regulariztion the accuracy for train and test is 97% and 94% respectively with RMSE- 0.2211\n",
        "But after cross validation with new value of alpha, the train and test accuracy become 96% and 93% respectively with RMSE- 0.2297\n",
        "There is decrease in training as well as testing accuracy after cross-validation,this means model approaches towards slightly generalized fitting."
      ],
      "metadata": {
        "id": "74yRdG6UpsJ3"
      }
    },
    {
      "cell_type": "markdown",
      "source": [
        "#### 3. Explain each evaluation metric's indication towards business and the business impact pf the ML model used."
      ],
      "metadata": {
        "id": "bmKjuQ-FpsJ3"
      }
    },
    {
      "cell_type": "markdown",
      "source": [
        "Answer Here."
      ],
      "metadata": {
        "id": "BDKtOrBQpsJ3"
      }
    },
    {
      "cell_type": "markdown",
      "source": [
        "### ML Model - 3 -Ridge Regression Model"
      ],
      "metadata": {
        "id": "Fze-IPXLpx6K"
      }
    },
    {
      "cell_type": "code",
      "source": [
        "# ML Model - 3 Implementation\n",
        "# Import the Ridge regression model from scikit-learn\n",
        "from sklearn.linear_model import Ridge"
      ],
      "metadata": {
        "id": "FFrSXAtrpx6M"
      },
      "execution_count": null,
      "outputs": []
    },
    {
      "cell_type": "code",
      "source": [
        "# Fit the Algorithm\n",
        "ridge=Ridge()\n",
        "ridge.fit(X_train1,Y_train)\n",
        "\n",
        "# Predict on the model\n",
        "y_pred_ridge= ridge.predict(X_test1)"
      ],
      "metadata": {
        "id": "zmS6cS4XrL6G"
      },
      "execution_count": null,
      "outputs": []
    },
    {
      "cell_type": "markdown",
      "source": [
        "#### 1. Explain the ML Model used and it's performance using Evaluation metric Score Chart."
      ],
      "metadata": {
        "id": "7AN1z2sKpx6M"
      }
    },
    {
      "cell_type": "markdown",
      "source": [
        "Ridge regression performs **L2 regularization**, i.e. adding a factor to sum of squares of coefficients in the optimization objective. Thus, ridge regression optimizes the following:\n",
        "\n",
        "###Objective = RSS + α * (sum of square of coefficients)\n",
        "\n",
        "Here, α (alpha) is the parameter which balances the amount of emphasis given to minimizing RSS vs minimizing sum of square of coefficients. α can take various values:\n",
        "\n",
        "1. α = 0:\n",
        "*  The objective becomes same as simple linear regression.\n",
        "*  We’ll get the same coefficients as simple linear regression.\n",
        "2. α = ∞:\n",
        "* The coefficients will be zero because of infinite weightage on square of coefficients, anything less than zero will make the objective infinite.\n",
        "3. 0 < α < ∞:\n",
        "* The magnitude of α will decide the weightage given to different parts of objective.\n",
        "* The coefficients will be somewhere between 0 and ones for simple linear regression.\n",
        "\n",
        "I hope this gives some sense on how α would impact the magnitude of coefficients. One thing is for sure that any non-zero value would give values less than that of simple linear regression."
      ],
      "metadata": {
        "id": "dJZhmDv_EedL"
      }
    },
    {
      "cell_type": "code",
      "source": [
        "# Visualizing evaluation Metric Score chart\n",
        "train_accuracy = ridge.score(X_train1,Y_train)\n",
        "test_accuracy = r2_score(Y_test,y_pred_ridge)\n",
        "print( 'Train accuracy is ',train_accuracy)\n",
        "print(' Test accuracy is ', test_accuracy)\n",
        "print(\"MSE value :\", round(mean_squared_error(Y_test, y_pred_ridge), 4))\n",
        "print(\"RMSE value :\", round(math.sqrt(mean_squared_error(Y_test, y_pred_ridge)), 4))\n",
        "print(\"MAE value :\", round(mean_absolute_error(Y_test, y_pred_ridge), 4))\n",
        "print(\"MAPE value :\", round(mean_absolute_percentage_error(Y_test, y_pred_ridge), 4))\n",
        "print(\"r2 score   :\",round(r2_score(Y_test,y_pred_lin),4))"
      ],
      "metadata": {
        "id": "xIY4lxxGpx6M"
      },
      "execution_count": null,
      "outputs": []
    },
    {
      "cell_type": "code",
      "source": [
        "# Ridge Regression plot- Actual price vs predicted price.\n",
        "plt.figure(figsize=(12,6))\n",
        "plt.plot((y_pred_ridge),color='black')\n",
        "plt.plot((Y_test),color= 'lime')\n",
        "plt.suptitle('Actual Vs Predicted Close Price:Ridge Regression', fontsize =14)\n",
        "plt.legend([\"Predicted\",\"Actual\"], fontsize=14)\n",
        "plt.xlabel('No of Test Data', fontsize= 14)\n",
        "plt.ylabel('Closing Price', fontsize= 14)\n",
        "plt.grid(True)"
      ],
      "metadata": {
        "id": "7T1giopzGXPY"
      },
      "execution_count": null,
      "outputs": []
    },
    {
      "cell_type": "markdown",
      "source": [
        "**The accuracy of model for training and testing is 95% and 94% respectively.**"
      ],
      "metadata": {
        "id": "gjN8v5htIApj"
      }
    },
    {
      "cell_type": "markdown",
      "source": [
        "#### 2. Cross- Validation & Hyperparameter Tuning"
      ],
      "metadata": {
        "id": "9PIHJqyupx6M"
      }
    },
    {
      "cell_type": "code",
      "source": [
        "# ML Model - 3 Implementation with hyperparameter optimization techniques (i.e., GridSearch CV, RandomSearch CV, Bayesian Optimization etc.)\n",
        "ridge_cv=Ridge()\n",
        "\n",
        "# Fit the Algorithm\n",
        "parameters = {'alpha': [1e-15,1e-13,1e-10,1e-8,1e-5,1e-4,1e-3,1e-2,1e-1,1,5,10,20,30,40,45,50,55,60,100]}\n",
        "ridge_regressor = GridSearchCV(ridge_cv, parameters, scoring='neg_mean_squared_error', cv=3)\n",
        "ridge_regressor.fit(X_train1, Y_train)\n",
        "print(\"The best fit alpha value is found out to be :\" ,ridge_regressor.best_params_)\n",
        "print(\"\\nUsing \",ridge_regressor.best_params_, \" the negative mean squared error is: \", ridge_regressor.best_score_)\n"
      ],
      "metadata": {
        "id": "eSVXuaSKpx6M"
      },
      "execution_count": null,
      "outputs": []
    },
    {
      "cell_type": "code",
      "source": [
        "# Predict on the model\n",
        "ridge_best= Ridge(alpha=0.01)\n",
        "ridge_best.fit(X_train1,Y_train)"
      ],
      "metadata": {
        "id": "59mNWMa3Ixjl"
      },
      "execution_count": null,
      "outputs": []
    },
    {
      "cell_type": "code",
      "source": [
        "y_pred_rcv= ridge_best.predict(X_test1)"
      ],
      "metadata": {
        "id": "7hYdAOiUJIl3"
      },
      "execution_count": null,
      "outputs": []
    },
    {
      "cell_type": "code",
      "source": [
        "# Visualizing using evaluation Metric Score chart\n",
        "train_accuracy = ridge_best.score(X_train1,Y_train)\n",
        "test_accuracy = r2_score(Y_test,y_pred_rcv)\n",
        "print( 'Train accuracy is ',train_accuracy)\n",
        "print(' Test accuracy is ', test_accuracy)\n",
        "print(\"MSE value :\", round(mean_squared_error(Y_test, y_pred_rcv), 4))\n",
        "print(\"RMSE value :\", round(math.sqrt(mean_squared_error(Y_test, y_pred_rcv)), 4))\n",
        "print(\"MAE value :\", round(mean_absolute_error(Y_test, y_pred_rcv), 4))\n",
        "print(\"MAPE value :\", round(mean_absolute_percentage_error(Y_test, y_pred_rcv), 4))\n",
        "print(\"r2 score   :\",round(r2_score(Y_test,y_pred_lin),4))"
      ],
      "metadata": {
        "id": "gQ_vR1s5JWYs"
      },
      "execution_count": null,
      "outputs": []
    },
    {
      "cell_type": "code",
      "source": [
        "# Ridge Regression plot after cross-validation - Actual price vs predicted price.\n",
        "plt.figure(figsize=(12,6))\n",
        "plt.plot((y_pred_rcv),color='black')\n",
        "plt.plot((Y_test),color='lime')\n",
        "plt.suptitle('Actual Vs Predicted Close Price:Ridge Regression(cross validation)', fontsize =14)\n",
        "plt.legend([\"Predicted\",\"Actual\"], fontsize=14)\n",
        "plt.xlabel('No of Test Data', fontsize= 14)\n",
        "plt.ylabel('Closing Price', fontsize= 14)\n",
        "plt.grid(True)"
      ],
      "metadata": {
        "id": "_PEg7aM8JfOp"
      },
      "execution_count": null,
      "outputs": []
    },
    {
      "cell_type": "markdown",
      "source": [
        "##### Which hyperparameter optimization technique have you used and why?"
      ],
      "metadata": {
        "id": "_-qAgymDpx6N"
      }
    },
    {
      "cell_type": "markdown",
      "source": [
        "I have used GridSearch cross validation technique. It gives functionality for parameter evaluating at the given regularizrion technique."
      ],
      "metadata": {
        "id": "lQMffxkwpx6N"
      }
    },
    {
      "cell_type": "markdown",
      "source": [
        "##### Have you seen any improvement? Note down the improvement with updates Evaluation metric Score Chart."
      ],
      "metadata": {
        "id": "Z-hykwinpx6N"
      }
    },
    {
      "cell_type": "markdown",
      "source": [
        "*  In Ridge regularization the training and testing accuracy is 95% and 94% respectively with Rmse 0.2188\n",
        "*  After cross validation the ridge accuracy for training increased to 97% but testing accuracy remains 94% with Rmse 0.2212\n",
        "####After applying cross validation, the testing accuracy remains same as in L2 regularizarion but training accuracy increased to 97% which shows a slightly higher risk of overfitting compared to the regularized Ridge model ,so preferably one must go with regularized Ridge model as it offers good performance, while also promoting model simplicity and interpretability."
      ],
      "metadata": {
        "id": "MzVzZC6opx6N"
      }
    },
    {
      "cell_type": "markdown",
      "source": [
        "###ML Model - 4 - ▶Elastic Net Regression"
      ],
      "metadata": {
        "id": "k32wJ-UMyoai"
      }
    },
    {
      "cell_type": "code",
      "source": [
        "#Implementing Elastic Net Regression\n",
        "from sklearn.linear_model import ElasticNet"
      ],
      "metadata": {
        "id": "KrBxuI9UzQ87"
      },
      "execution_count": null,
      "outputs": []
    },
    {
      "cell_type": "code",
      "source": [
        "# ML Model - 4 Implementation\n",
        "elastic_reg = ElasticNet(alpha=0.001,l1_ratio=0.005)\n",
        "# Fit the model\n",
        "elastic_reg.fit(X_train1,Y_train)\n",
        "#Predict the model\n",
        "y_pred_elastic= elastic_reg.predict(X_test1)"
      ],
      "metadata": {
        "id": "8faXQMdUyneW"
      },
      "execution_count": null,
      "outputs": []
    },
    {
      "cell_type": "markdown",
      "source": [
        "####1. Explain the ML Model used and it's performance using Evaluation metric Score Chart.\n"
      ],
      "metadata": {
        "id": "eZrJb6ZR18F4"
      }
    },
    {
      "cell_type": "markdown",
      "source": [
        "**Elastic Net** is a regression method that performs variable selection and regularization both simultaneously. The term regularization is the main concept behind the elastic net. Regularization comes into picture when the model is overfitted. Now we need to understand what overfitting means, so overfitting is a problem that occurs when the model is performing good with the training dataset, but with the test, dataset model is giving errors; in this situation the regularization is a technique to reduce the errors by fitting a function appropriately in the training dataset. These functions can be called penalties."
      ],
      "metadata": {
        "id": "sIeyJai42Q0P"
      }
    },
    {
      "cell_type": "code",
      "source": [
        "# Visualizing using evaluation Metric Score chart\n",
        "train_accuracy = elastic_reg.score(X_train1,Y_train)\n",
        "test_accuracy = r2_score(Y_test,y_pred_elastic)\n",
        "print( 'Train accuracy is ',train_accuracy)\n",
        "print(' Test accuracy is ', test_accuracy)\n",
        "print(\"MSE value :\", round(mean_squared_error(Y_test, y_pred_elastic), 4))\n",
        "print(\"RMSE value :\", round(math.sqrt(mean_squared_error(Y_test, y_pred_elastic)), 4))\n",
        "print(\"MAE value :\", round(mean_absolute_error(Y_test, y_pred_elastic), 4))\n",
        "print(\"MAPE value :\", round(mean_absolute_percentage_error(Y_test, y_pred_elastic), 4))\n",
        "print(\"r2 score   :\",round(r2_score(Y_test,y_pred_lin),4))"
      ],
      "metadata": {
        "id": "FMPt68-f2IDH"
      },
      "execution_count": null,
      "outputs": []
    },
    {
      "cell_type": "code",
      "source": [
        "# Elastic Net plot- Actual price vs predicted price.\n",
        "plt.figure(figsize=(12,6))\n",
        "plt.plot((y_pred_elastic),color='aqua')\n",
        "plt.plot((Y_test),color='black')\n",
        "plt.suptitle('Actual Vs Predicted Close Price:Elastic Net', fontsize =14)\n",
        "plt.legend([\"Predicted\",\"Actual\"], fontsize=14)\n",
        "plt.xlabel('No of Test Data', fontsize= 14)\n",
        "plt.ylabel('Closing Price', fontsize= 14)\n",
        "# plt.grid(True)"
      ],
      "metadata": {
        "id": "zewo8pCo3S0E"
      },
      "execution_count": null,
      "outputs": []
    },
    {
      "cell_type": "markdown",
      "source": [
        "###2. Cross- Validation & Hyperparameter Tuning of Elastic Net"
      ],
      "metadata": {
        "id": "thLReTiQ4Bri"
      }
    },
    {
      "cell_type": "code",
      "source": [
        "# ML Model - 4 Implementation with hyperparameter optimization techniques (i.e., GridSearch CV)\n",
        "elastic = ElasticNet()\n",
        "# Fit the Algorithm\n",
        "parameters = {'alpha':[1e-15,1e-13,1e-10,1e-8,1e-5,1e-4,1e-3,1e-2,1e-1,1,5,10,20,30,40,45,50,55,60,100],'l1_ratio':[0.3,0.4,0.5,0.6,0.7,0.8,1,2]}\n",
        "elastic_model= GridSearchCV(elastic,parameters,scoring='neg_mean_squared_error',cv=3)\n",
        "elastic_model.fit(X_train1,Y_train)\n",
        "print(\"The best fit alpha and L1 ratio value is found out to be :\" ,elastic_model.best_params_['alpha'], elastic_model.best_params_['l1_ratio'])\n",
        "print(\"The negative mean squared error for is: \", round(elastic_model.best_score_,3))"
      ],
      "metadata": {
        "id": "GMxdhuyr4NNV"
      },
      "execution_count": null,
      "outputs": []
    },
    {
      "cell_type": "code",
      "source": [
        "elastic_best= ElasticNet(alpha=0.001,l1_ratio=1)\n",
        "elastic_best.fit(X_train1,Y_train)"
      ],
      "metadata": {
        "id": "_CgKFe594Wku"
      },
      "execution_count": null,
      "outputs": []
    },
    {
      "cell_type": "code",
      "source": [
        "# Predict the model\n",
        "y_pred_elastic_cv= elastic_best.predict(X_test1)"
      ],
      "metadata": {
        "id": "KfTEbO524fhZ"
      },
      "execution_count": null,
      "outputs": []
    },
    {
      "cell_type": "code",
      "source": [
        " # Visualizing using evaluation Metric Score chart\n",
        "train_accuracy = elastic_best.score(X_train1,Y_train)\n",
        "test_accuracy = r2_score(Y_test,y_pred_elastic_cv)\n",
        "print( 'Train accuracy is ',train_accuracy)\n",
        "print(' Test accuracy is ', test_accuracy)\n",
        "print(\"MSE value :\", round(mean_squared_error(Y_test, y_pred_elastic_cv), 4))\n",
        "print(\"RMSE value :\", round(math.sqrt(mean_squared_error(Y_test, y_pred_elastic_cv)), 4))\n",
        "print(\"MAE value :\", round(mean_absolute_error(Y_test, y_pred_elastic_cv), 4))\n",
        "print(\"MAPE value :\", round(mean_absolute_percentage_error(Y_test, y_pred_elastic_cv), 4))\n",
        "print(\"r2 score   :\",round(r2_score(Y_test,y_pred_lin),4))"
      ],
      "metadata": {
        "id": "e6qz8bB84mha"
      },
      "execution_count": null,
      "outputs": []
    },
    {
      "cell_type": "code",
      "source": [
        "# Elastic Net plot after cross validation- Actual price vs predicted price.\n",
        "plt.figure(figsize=(12,6))\n",
        "plt.plot((y_pred_elastic_cv),color='aqua')\n",
        "plt.plot((Y_test),color='black')\n",
        "plt.suptitle('Actual Vs Predicted Close Price:Elastic Net(Cross Validation)', fontsize =14)\n",
        "plt.legend([\"Predicted\",\"Actual\"], fontsize=14)\n",
        "plt.xlabel('No of Test Data', fontsize= 14)\n",
        "plt.ylabel('Closing Price', fontsize= 14)\n",
        "plt.grid(True)"
      ],
      "metadata": {
        "id": "cASG3S464zBN"
      },
      "execution_count": null,
      "outputs": []
    },
    {
      "cell_type": "markdown",
      "source": [
        "####Which hyperparameter optimization technique have you used and why?"
      ],
      "metadata": {
        "id": "y7DRohTu5PJ5"
      }
    },
    {
      "cell_type": "markdown",
      "source": [
        "*  I have used GridSearch cross validation technique. It gives functionality for parameter evaluating at the given regularizrion technique.\n",
        "\n"
      ],
      "metadata": {
        "id": "j9a6QXja6L3x"
      }
    },
    {
      "cell_type": "markdown",
      "source": [
        "####Have you seen any improvement? Note down the improvement with updates Evaluation metric Score Chart."
      ],
      "metadata": {
        "id": "0enO_SJX5kNf"
      }
    },
    {
      "cell_type": "markdown",
      "source": [
        "* In Elastic Net the training and testing accuracy is 96% and 94% respectively with Rmse 0.2225\n",
        "* After Cross-Validation the Elastic Net accuracy for training is 96% which remains the same but the testing acuuracy decreases to 93% with Rmse 0.2297\n"
      ],
      "metadata": {
        "id": "YFrvPyAF5nqf"
      }
    },
    {
      "cell_type": "markdown",
      "source": [
        "###ML Model - 5 - ▶RFR = Random Forest Regressor Model"
      ],
      "metadata": {
        "id": "lp1T5wud6qAR"
      }
    },
    {
      "cell_type": "code",
      "source": [
        "# ML Model - 4 Implementation\n",
        "from sklearn.ensemble import RandomForestRegressor\n",
        "RFR = RandomForestRegressor()\n",
        "# Fit the Algorithm\n",
        "RFR.fit(X_train1, Y_train)\n",
        "# Predict on the model\n",
        "y_pred_RFR= RFR.predict(X_test1)"
      ],
      "metadata": {
        "id": "gAUyVXK07IvO"
      },
      "execution_count": null,
      "outputs": []
    },
    {
      "cell_type": "markdown",
      "source": [
        "####1. Explain the ML Model used and it's performance using Evaluation metric Score Chart."
      ],
      "metadata": {
        "id": "-Gz7WFbB69K2"
      }
    },
    {
      "cell_type": "markdown",
      "source": [
        "Random Forest is a popular machine learning algorithm used for both classification and regression tasks. It belongs to the ensemble learning family, which combines multiple individual models to create a more powerful and robust predictive model.\n",
        "\n",
        "The basic idea behind the Random Forest algorithm is to build a \"forest\" of decision trees and make predictions by aggregating the results of each individual tree. Each decision tree in the forest is constructed using a random subset of the training data and a random subset of the features (input variables). This randomness helps to introduce diversity among the trees and prevents overfitting."
      ],
      "metadata": {
        "id": "X99nh-jC7dhc"
      }
    },
    {
      "cell_type": "code",
      "source": [
        "# Visualizing using evaluation Metric Score chart\n",
        "train_accuracy = RFR.score(X_train1, Y_train)\n",
        "test_accuracy = r2_score(Y_test, y_pred_RFR)\n",
        "print('Train accuracy is ',train_accuracy)\n",
        "print('Test accuracy is ', test_accuracy)\n",
        "print(\"MSE value :\", round(mean_squared_error(Y_test, y_pred_RFR), 4))\n",
        "print(\"RMSE value :\", round(math.sqrt(mean_squared_error(Y_test, y_pred_RFR)), 4))\n",
        "print(\"MAE value :\", round(mean_absolute_error(Y_test, y_pred_RFR), 4))\n",
        "print(\"MAPE value :\", round(mean_absolute_percentage_error(Y_test, y_pred_RFR), 4))\n",
        "print(\"r2 score   :\",round(r2_score(Y_test,y_pred_lin),4))"
      ],
      "metadata": {
        "id": "2v4-ntgr7ma_"
      },
      "execution_count": null,
      "outputs": []
    },
    {
      "cell_type": "code",
      "source": [
        "# Random Forest Regressor plot - Actual price vs predicted price.\n",
        "plt.figure(figsize=(12,6))\n",
        "plt.plot((y_pred_RFR),color='green')\n",
        "plt.plot((Y_test),color='black')\n",
        "plt.suptitle('Actual Vs Predicted Close Price:Random Forest', fontsize =14)\n",
        "plt.legend([\"Predicted\",\"Actual\"], fontsize=14)\n",
        "plt.xlabel('No of Test Data', fontsize= 14)\n",
        "plt.ylabel('Closing Price', fontsize= 14)\n",
        "plt.grid(True)"
      ],
      "metadata": {
        "id": "yYXhnXyh7zFQ"
      },
      "execution_count": null,
      "outputs": []
    },
    {
      "cell_type": "markdown",
      "source": [
        "####2. Cross- Validation & Hyperparameter Tuning of Random Forest"
      ],
      "metadata": {
        "id": "RaY6QcIA8TW-"
      }
    },
    {
      "cell_type": "code",
      "source": [
        "# ML Model - 5 Implementation with hyperparameter optimization techniques (i.e., GridSearch CV)\n",
        "RFR_cv = RandomForestRegressor()\n",
        "\n",
        "# Fit the object to train dataset\n",
        "grid_values = {'n_estimators':[50, 80,  100], 'max_depth':[3, 5, 7]}\n",
        "RFR_cv_grid = GridSearchCV(RFR_cv, param_grid = grid_values, scoring = 'neg_mean_squared_error', cv=5)\n",
        "\n",
        "# Fit the Algorithm\n",
        "RFR_cv_grid.fit(X_train1, Y_train)"
      ],
      "metadata": {
        "id": "wSliXYPm8Wqb"
      },
      "execution_count": null,
      "outputs": []
    },
    {
      "cell_type": "code",
      "source": [
        "RFR_cv_grid.best_params_"
      ],
      "metadata": {
        "id": "ehI2NKDm8rVp"
      },
      "execution_count": null,
      "outputs": []
    },
    {
      "cell_type": "code",
      "source": [
        "RFR_best=RandomForestRegressor(max_depth=3,n_estimators=50)\n",
        "RFR_best.fit(X_train1,Y_train)"
      ],
      "metadata": {
        "id": "3Gw_nqGk8tqb"
      },
      "execution_count": null,
      "outputs": []
    },
    {
      "cell_type": "code",
      "source": [
        "# Predict the model\n",
        "y_pred_RFR_CV= RFR_best.predict(X_test1)"
      ],
      "metadata": {
        "id": "2Wee1wBp80Ro"
      },
      "execution_count": null,
      "outputs": []
    },
    {
      "cell_type": "code",
      "source": [
        "# Visualizing using evaluation Metric Score chart\n",
        "train_accuracy = RFR_best.score(X_train1, Y_train)\n",
        "test_accuracy = r2_score(Y_test, y_pred_RFR_CV)\n",
        "print('Train accuracy is ',train_accuracy)\n",
        "print('Test accuracy is ', test_accuracy)\n",
        "print(\"MSE value :\", round(mean_squared_error(Y_test, y_pred_RFR_CV), 4))\n",
        "print(\"RMSE value :\", round(math.sqrt(mean_squared_error(Y_test, y_pred_RFR_CV)), 4))\n",
        "print(\"MAE value :\", round(mean_absolute_error(Y_test, y_pred_RFR_CV), 4))\n",
        "print(\"MAPE value :\", round(mean_absolute_percentage_error(Y_test, y_pred_RFR_CV), 4))\n",
        "print(\"r2 score   :\",round(r2_score(Y_test,y_pred_lin),4))"
      ],
      "metadata": {
        "id": "CgjObgR68_g0"
      },
      "execution_count": null,
      "outputs": []
    },
    {
      "cell_type": "code",
      "source": [
        "# Random Forest Regressor plot after cross-validation - Actual price vs predicted price.\n",
        "plt.figure(figsize=(12,6))\n",
        "plt.plot((y_pred_RFR_CV),color='green')\n",
        "plt.plot((Y_test),color='black')\n",
        "plt.suptitle('Actual Vs Predicted Close Price:Random Forest(cross validation)', fontsize =14)\n",
        "plt.legend([\"Predicted\",\"Actual\"], fontsize=14)\n",
        "plt.xlabel('No of Test Data', fontsize= 14)\n",
        "plt.ylabel('Closing Price', fontsize= 14)\n",
        "plt.grid(True)"
      ],
      "metadata": {
        "id": "L559S-zF-Pzm"
      },
      "execution_count": null,
      "outputs": []
    },
    {
      "cell_type": "markdown",
      "source": [
        "####Have you seen any improvement? Note down the improvement with updates Evaluation metric Score Chart."
      ],
      "metadata": {
        "id": "TvnaLsZV-wii"
      }
    },
    {
      "cell_type": "markdown",
      "source": [
        "* In Random Forest the training and testing accuracy comes out to be 99% and 91% respectively with RMSE value : 0.2651\n",
        "* After cross validation of Random Forest the training accuracy decreases to 97% and testing accuracy and Rmse 0.2574 that means this model is less prone to overfitting and it may generalize better to unseen data.\n",
        "\n",
        "\n",
        "\n"
      ],
      "metadata": {
        "id": "9GYKBX46-z9t"
      }
    },
    {
      "cell_type": "markdown",
      "source": [
        "###ML Model - 6 -: XGBoost"
      ],
      "metadata": {
        "id": "9_FpL2j6Bsem"
      }
    },
    {
      "cell_type": "code",
      "source": [
        "# ML Model- 6 - Implementation\n",
        "from xgboost import XGBRegressor\n",
        "xgb = XGBRegressor()\n",
        "# Fit the model\n",
        "xgb.fit(X_train1,Y_train)\n",
        "# Predict the model\n",
        "y_pred_xgb= xgb.predict(X_test1)\n"
      ],
      "metadata": {
        "id": "XjZrkPUkCYEL"
      },
      "execution_count": null,
      "outputs": []
    },
    {
      "cell_type": "markdown",
      "source": [
        "####1. Explain the ML Model used and its performance using the Evaluation metric Score Chart"
      ],
      "metadata": {
        "id": "410tURvVCar-"
      }
    },
    {
      "cell_type": "markdown",
      "source": [
        "XGBoost (eXtreme Gradient Boosting) is an advanced machine learning algorithm that belongs to the gradient boosting family. It is widely used for regression and classification tasks and has gained popularity for its high performance and scalability.The key idea behind XGBoost is to iteratively build an ensemble of weak prediction models, typically decision trees, and combine their predictions to create a strong predictive model. The algorithm optimizes a specific objective function by minimizing the loss during each boosting iteration.\n",
        "\n",
        "XGBoost is designed to be highly efficient and scalable, making it suitable for large datasets and complex problems.\n",
        "\n",
        "[ ]\n"
      ],
      "metadata": {
        "id": "Ln2ZjxtKCIIz"
      }
    },
    {
      "cell_type": "code",
      "source": [
        "# Visualizing using evaluation Metric Score chart\n",
        "train_accuracy = xgb.score(X_train1, Y_train)\n",
        "test_accuracy = r2_score(Y_test, y_pred_xgb)\n",
        "print('Train accuracy is ',train_accuracy)\n",
        "print('Test accuracy is ', test_accuracy)\n",
        "print(\"MSE value :\", round(mean_squared_error(Y_test, y_pred_xgb), 4))\n",
        "print(\"RMSE value :\", round(math.sqrt(mean_squared_error(Y_test, y_pred_xgb)), 4))\n",
        "print(\"MAE value :\", round(mean_absolute_error(Y_test, y_pred_xgb), 4))\n",
        "print(\"MAPE value :\", round(mean_absolute_percentage_error(Y_test, y_pred_xgb), 4))\n",
        "print(\"r2 score   :\",round(r2_score(Y_test,y_pred_lin),4))"
      ],
      "metadata": {
        "id": "6o_TyXmpCxH3"
      },
      "execution_count": null,
      "outputs": []
    },
    {
      "cell_type": "code",
      "source": [
        "# XGBOOST Regressor plot - Actual price vs predicted price.\n",
        "plt.figure(figsize=(12,6))\n",
        "plt.plot((y_pred_xgb),color='gold')\n",
        "plt.plot((Y_test),color='black')\n",
        "plt.suptitle('Actual Vs Predicted Close Price:XG BOOST', fontsize =14)\n",
        "plt.legend([\"Predicted\",\"Actual\"], fontsize=14)\n",
        "plt.xlabel('No of Test Data', fontsize= 14)\n",
        "plt.ylabel('Closing Price', fontsize= 14)\n",
        "plt.grid(True)"
      ],
      "metadata": {
        "id": "RHbjyQyPDCWd"
      },
      "execution_count": null,
      "outputs": []
    },
    {
      "cell_type": "markdown",
      "source": [
        "####2. Cross- Validation & Hyperparameter Tuning of XG BOOST"
      ],
      "metadata": {
        "id": "sZzo2jaWDl0X"
      }
    },
    {
      "cell_type": "code",
      "source": [
        "# ML Model - 6 Implementation with hyperparameter optimization techniques (i.e., GridSearch CV)\n",
        "\n",
        "from xgboost import XGBRegressor\n",
        "xgb_cv = XGBRegressor()\n",
        "\n",
        "# Define the hyperparameter grid\n",
        "grid_values = {\n",
        "    'n_estimators': [50, 80, 100],\n",
        "    'max_depth': [3, 5, 7],\n",
        "    'learning_rate': [0.1, 0.01, 0.001]\n",
        "}\n",
        "\n",
        "# Create GridSearchCV object\n",
        "xgb_cv_grid = GridSearchCV(xgb_cv, param_grid=grid_values, scoring='neg_mean_squared_error', cv=5)\n",
        "\n",
        "# Fit the GridSearchCV object to the training data\n",
        "xgb_cv_grid.fit(X_train1, Y_train)\n",
        "\n",
        "# Get the best parameters and best score\n",
        "best_params = xgb_cv_grid.best_params_\n",
        "best_score = xgb_cv_grid.best_score_\n",
        "\n",
        "# Print the best parameters and best score\n",
        "print(\"Best Parameters: \", best_params)\n",
        "print(\"Best Score: \", best_score)"
      ],
      "metadata": {
        "id": "QjHYl_2VDqYb"
      },
      "execution_count": null,
      "outputs": []
    },
    {
      "cell_type": "code",
      "source": [
        "XGB_best= XGBRegressor(max_depth=3,n_estimators=50,learning_rate=0.1)\n",
        "XGB_best.fit(X_train1,Y_train)"
      ],
      "metadata": {
        "id": "0I1g3ECYD5uh"
      },
      "execution_count": null,
      "outputs": []
    },
    {
      "cell_type": "code",
      "source": [
        "y_pred_xgb_cv= XGB_best.predict(X_test1)"
      ],
      "metadata": {
        "id": "0NIhoJDeEMVi"
      },
      "execution_count": null,
      "outputs": []
    },
    {
      "cell_type": "code",
      "source": [
        "# Visualizing using evaluation Metric Score chart\n",
        "train_accuracy = xgb.score(X_train1, Y_train)\n",
        "test_accuracy = r2_score(Y_test, y_pred_xgb_cv)\n",
        "print('Train accuracy is ',train_accuracy)\n",
        "print('Test accuracy is ', test_accuracy)\n",
        "print(\"MSE value :\", round(mean_squared_error(Y_test, y_pred_xgb_cv), 4))\n",
        "print(\"RMSE value :\", round(math.sqrt(mean_squared_error(Y_test, y_pred_xgb_cv)), 4))\n",
        "print(\"MAE value :\", round(mean_absolute_error(Y_test, y_pred_xgb_cv), 4))\n",
        "print(\"MAPE value :\", round(mean_absolute_percentage_error(Y_test, y_pred_xgb_cv), 4))\n",
        "print(\"r2 score   :\",round(r2_score(Y_test,y_pred_lin),4))"
      ],
      "metadata": {
        "id": "99pLeFX8EPBo"
      },
      "execution_count": null,
      "outputs": []
    },
    {
      "cell_type": "markdown",
      "source": [
        "Have you seen any improvement? Note down the improvement with updates Evaluation metric Score Chart."
      ],
      "metadata": {
        "id": "b_jGRQ9KFBMs"
      }
    },
    {
      "cell_type": "markdown",
      "source": [
        "* In XG BOOST model the training and testing accuracy comes out to be 99% and 91% respectively which is sign of slightly overfitting.\n",
        "* After applyting Cross Validation to XG BOOST, training and testing accuracy remains same as it was earlier in normal XG BOOST, it means  the default hyperparameters provided by XGBoost are sufficient as well as optimized, and there is no need for further hyperparameter tuning.\n",
        "\n"
      ],
      "metadata": {
        "id": "ViMzXnPaFDDX"
      }
    },
    {
      "cell_type": "markdown",
      "source": [
        "### 1. Which Evaluation metrics did you consider for a positive business impact and why?"
      ],
      "metadata": {
        "id": "h_CCil-SKHpo"
      }
    },
    {
      "cell_type": "code",
      "source": [
        "# Function to run all model\n",
        "def mape(actual, pred):\n",
        "    actual, pred = np.array(actual), np.array(pred)\n",
        "    return np.mean(np.abs((actual - pred) / actual)) * 100\n",
        "def score_model(X_train,y_train,X_test,y_test):\n",
        "    df_columns=[]\n",
        "    df=pd.DataFrame(columns=df_columns) # Creating dataframe to store the train and test metrics for each of the models\n",
        "\n",
        "    i=0\n",
        "\n",
        "    #Reading model one by one\n",
        "    for model in models:\n",
        "        model.fit(X_train,y_train)\n",
        "\n",
        "        y_pred_train = model.predict(X_train)\n",
        "        y_pred_test = model.predict(X_test)\n",
        "\n",
        "        #Computing evaluation metrics\n",
        "        train_accuracy=model.score(X_train,y_train)\n",
        "        test_accuracy=model.score(X_test,y_test)\n",
        "\n",
        "        MAE=metrics.mean_absolute_error(y_test, y_pred_test)\n",
        "        MSE=metrics.mean_squared_error(y_test, y_pred_test)\n",
        "        RMSE=math.sqrt(MSE)\n",
        "        MAPE=mape(y_test, y_pred_test)\n",
        "        Rsquare=metrics.r2_score(y_test, y_pred_test)\n",
        "\n",
        "\n",
        "        #Inserting in dataframe\n",
        "        df.loc[i,\"Model_Name\"]=model.__class__.__name__\n",
        "        df.loc[i,\"MAE\"]=round(MAE,3)\n",
        "        df.loc[i,\"MSE\"]=round(MSE,3)\n",
        "        df.loc[i,\"RMSE\"]=round(RMSE,3)\n",
        "        df.loc[i,\"MAPE\"]=round(MAPE,3)\n",
        "        df.loc[i,\"Rsquare\"]=round(Rsquare,3)\n",
        "\n",
        "        i+=1\n",
        "\n",
        "    #Sorting values by accuracy\n",
        "    df.sort_values(by=['RMSE'],ascending=True,inplace=True)\n",
        "\n",
        "    return df"
      ],
      "metadata": {
        "id": "ZpbRLP23eGfs"
      },
      "execution_count": null,
      "outputs": []
    },
    {
      "cell_type": "code",
      "source": [
        "models=[linear_reg,lasso,ridge,elastic_reg,RFR,xgb]"
      ],
      "metadata": {
        "id": "7lQE5125eYhF"
      },
      "execution_count": null,
      "outputs": []
    },
    {
      "cell_type": "code",
      "source": [
        "#Testing performance\n",
        "report=score_model(X_train1,Y_train,X_test1,Y_test)\n",
        "report"
      ],
      "metadata": {
        "id": "mMu6WA7-ecjy"
      },
      "execution_count": null,
      "outputs": []
    },
    {
      "cell_type": "markdown",
      "source": [
        "**As we can see, from the above dataframe, that all models have Rsquare(R2_SCORE) greater than 90%, it means the proportion of variation in the dependent variable is very well explained by the independent variable (i.e. more than 90%) but on the contrary we must take care off the errors occuring in the models as well as how much a model is prone to overfitting. So,by keeping in mind all these perpective I choose RMSE as Error benchmark and the model having least RMSE is Ridge regularization attaning a traning accuracy of 95%.**\n",
        "\n",
        "###R2_SCORE AND RMSE are the evaluation metrics which have positive impact on business.\n",
        "\n"
      ],
      "metadata": {
        "id": "wblUa8s75Zal"
      }
    },
    {
      "cell_type": "markdown",
      "source": [
        "### 2. Which ML model did you choose from the above created models as your final prediction model and why?"
      ],
      "metadata": {
        "id": "cBFFvTBNJzUa"
      }
    },
    {
      "cell_type": "markdown",
      "source": [
        "*  I have considered Ridge Reguralization as my final prediction model which has testing accuracy of 94% and training accuracy of 95%, showing least RMSE value among all models and not prone to overfitting. It offers good performance, while also promoting model simplicity and interpretability."
      ],
      "metadata": {
        "id": "6ksF5Q1LKTVm"
      }
    },
    {
      "cell_type": "markdown",
      "source": [
        "### 3. Explain the model which you have used and the feature importance using any model explainability tool?"
      ],
      "metadata": {
        "id": "HvGl1hHyA_VK"
      }
    },
    {
      "cell_type": "code",
      "source": [
        "# Retrieve the coefficients (feature weights)\n",
        "coefficients = ridge.coef_\n",
        "\n",
        "# Create an array of feature names\n",
        "feature_names = np.array(['Open','High','Low'])\n",
        "\n",
        "# Sort the coefficients and corresponding feature names\n",
        "sorted_features = [feature for _, feature in sorted(zip(coefficients, feature_names))]\n",
        "sorted_coefficients = np.sort(coefficients)\n",
        "\n",
        "# Plotting the feature importance\n",
        "plt.figure(figsize=(12, 8))\n",
        "bar_width= 0.5\n",
        "plt.barh(sorted_features, sorted_coefficients,color= 'pink')\n",
        "plt.title(\"Feature Importance in Ridge Regularization\", fontsize=16)\n",
        "plt.xlabel(\"Coefficient Value\", fontsize=12)\n",
        "plt.ylabel(\"Independent Features\", fontsize=12)\n",
        "plt.tight_layout()\n",
        "plt.show()"
      ],
      "metadata": {
        "id": "ja6-LdMCfuWe"
      },
      "execution_count": null,
      "outputs": []
    },
    {
      "cell_type": "markdown",
      "source": [
        "**According to the model choosen Low feature is contributing the most.**"
      ],
      "metadata": {
        "id": "YnvVTiIxBL-C"
      }
    },
    {
      "cell_type": "markdown",
      "source": [
        "## ***8.*** ***Future Work (Optional)***"
      ],
      "metadata": {
        "id": "EyNgTHvd2WFk"
      }
    },
    {
      "cell_type": "markdown",
      "source": [
        "### 1. Save the best performing ml model in a pickle file or joblib file format for deployment process.\n"
      ],
      "metadata": {
        "id": "KH5McJBi2d8v"
      }
    },
    {
      "cell_type": "code",
      "source": [
        "# Save the File\n",
        "import pickle\n",
        "ridge = Ridge()\n",
        "ridge.fit(X_train1, Y_train)"
      ],
      "metadata": {
        "id": "bQIANRl32f4J"
      },
      "execution_count": null,
      "outputs": []
    },
    {
      "cell_type": "code",
      "source": [
        "model_file = 'ridge.pkl'\n",
        "\n",
        "# Save the model to the specified file path\n",
        "with open(model_file, 'wb') as file:\n",
        "    pickle.dump(ridge, file)"
      ],
      "metadata": {
        "id": "66Q4CQy1gqPb"
      },
      "execution_count": null,
      "outputs": []
    },
    {
      "cell_type": "markdown",
      "source": [
        "### 2. Again Load the saved model file and try to predict unseen data for a sanity check.\n"
      ],
      "metadata": {
        "id": "iW_Lq9qf2h6X"
      }
    },
    {
      "cell_type": "code",
      "source": [
        "# Load the File and predict unseen data.\n",
        "# Specify the file path of the saved model\n",
        "model_file = 'ridge.pkl'\n",
        "\n",
        "# Load the model from the pickle file\n",
        "with open(model_file, 'rb') as file:\n",
        "    loaded_model = pickle.load(file)"
      ],
      "metadata": {
        "id": "oEXk9ydD2nVC"
      },
      "execution_count": null,
      "outputs": []
    },
    {
      "cell_type": "code",
      "source": [
        "# Predict using the loaded model and x_test1\n",
        "y_pred1 = loaded_model.predict(X_test1)\n",
        "y_pred1"
      ],
      "metadata": {
        "id": "6o26XB02hQrG"
      },
      "execution_count": null,
      "outputs": []
    },
    {
      "cell_type": "code",
      "source": [
        "Y_test"
      ],
      "metadata": {
        "id": "j_XtZ5H9hXYR"
      },
      "execution_count": null,
      "outputs": []
    },
    {
      "cell_type": "markdown",
      "source": [
        "### ***Congrats! Your model is successfully created and ready for deployment on a live server for a real user interaction !!!***"
      ],
      "metadata": {
        "id": "-Kee-DAl2viO"
      }
    },
    {
      "cell_type": "markdown",
      "source": [
        "# **Conclusion**"
      ],
      "metadata": {
        "id": "gCX9965dhzqZ"
      }
    },
    {
      "cell_type": "markdown",
      "source": [
        "*  #### From 2016 to 2018 stock closing price increase but after year 2018 it started decreasing because of Rana Kapoor case\n",
        "* #### We got to know that data for dependent and indepent variables are rightly skewed for that we applied log transformation.\n",
        "*  #### The log transformation successfully addressed positive skewness observed in all features, ensuring adherence to the assumptions of the linear regression models.\n",
        "\n",
        "#### Closing Price of a stock refers to the final price at which the stock is traded on a particular stock exchange on a given trading day. It is the last price at which the stock is bought or sold during the trading session.\n",
        "\n",
        "1.  Importance: The closing price is an important metric used by investors, analysts, and traders to evaluate a company's financial health, market value, and stock performance. It is also used to calculate other important metrics such as the daily price change, market capitalization, and trading volume.\n",
        "\n",
        "2.  For an Average Investor: An average investor sees investing in stocks for long-term purposes and in premium stocks that have proved to be quality and high-performing stocks over the years. For such investors, the daily closing price may not hold as high importance as for an average trader.\n",
        "\n",
        "3.  For a Traders: For traders and analysts, the information on the closing price of stocks is essential to make sure that they make sound trading decisions and maximize returns on their portfolios.\n",
        "\n",
        "###Models Implemented\n",
        "\n",
        "*  I have implemented six models/Algorithms- Linear Regression,Lasso Reguralization,Ridge Reguralization,Elastic Net, Random Forest Regressor, XG BOSST Regressor.\n",
        "*  The best performing model to predict the closing stock price of yes bank is Ridge Reguralization having training and testing accuracy as 95% and 94% respectively in untuned condition having lowest RMSE(.219), with cross-validation and hyperparameter tuning(Tuned Model) its training and testing accuracy is 97% and 94% respectively which tends to generalized fitting and prone to slight-risk of overfitting.\n",
        "*  All Independent Features(High,Low,Open) are Strongly correlated with each other as well with the depenedent Feature(Close) also.\n",
        "\n",
        "*  According to the best performing model Feature Low is of Outmost importance.\n",
        "\n",
        "*  Evaluation Metrics used to choose the best performing model is r2_score and RMSE.\n",
        "\n",
        "*  The results indicate adopting supervised Learning Algorithms to identify stock manipulation using a labeled dataset based on a Fraud case is promising."
      ],
      "metadata": {
        "id": "Fjb1IsQkh3yE"
      }
    },
    {
      "cell_type": "markdown",
      "source": [
        "### ***Hurrah! You have successfully completed your Machine Learning Capstone Project !!!***"
      ],
      "metadata": {
        "id": "gIfDvo9L0UH2"
      }
    },
    {
      "cell_type": "code",
      "source": [],
      "metadata": {
        "id": "MQiB9sQI1sHZ"
      },
      "execution_count": null,
      "outputs": []
    },
    {
      "cell_type": "markdown",
      "source": [],
      "metadata": {
        "id": "iNtjVG4pqlcA"
      }
    }
  ]
}